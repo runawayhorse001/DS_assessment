{
 "cells": [
  {
   "cell_type": "markdown",
   "metadata": {
    "toc": true
   },
   "source": [
    "<h1>Table of Contents<span class=\"tocSkip\"></span></h1>\n",
    "<div class=\"toc\"><ul class=\"toc-item\"><li><span><a href=\"#Summary\" data-toc-modified-id=\"Summary-1\"><span class=\"toc-item-num\">1&nbsp;&nbsp;</span>Summary</a></span></li><li><span><a href=\"#Import-libraries\" data-toc-modified-id=\"Import-libraries-2\"><span class=\"toc-item-num\">2&nbsp;&nbsp;</span>Import libraries</a></span></li><li><span><a href=\"#Load-data\" data-toc-modified-id=\"Load-data-3\"><span class=\"toc-item-num\">3&nbsp;&nbsp;</span>Load data</a></span><ul class=\"toc-item\"><li><span><a href=\"#Load-fraud-data\" data-toc-modified-id=\"Load-fraud-data-3.1\"><span class=\"toc-item-num\">3.1&nbsp;&nbsp;</span>Load fraud data</a></span></li><li><span><a href=\"#Load-ip-to-country-data\" data-toc-modified-id=\"Load-ip-to-country-data-3.2\"><span class=\"toc-item-num\">3.2&nbsp;&nbsp;</span>Load ip to country data</a></span></li></ul></li><li><span><a href=\"#Raw-data-audit\" data-toc-modified-id=\"Raw-data-audit-4\"><span class=\"toc-item-num\">4&nbsp;&nbsp;</span>Raw data audit</a></span></li><li><span><a href=\"#Join-user-and-ip-table\" data-toc-modified-id=\"Join-user-and-ip-table-5\"><span class=\"toc-item-num\">5&nbsp;&nbsp;</span>Join user and ip table</a></span><ul class=\"toc-item\"><li><span><a href=\"#Fix-datatype-and-data-issues\" data-toc-modified-id=\"Fix-datatype-and-data-issues-5.1\"><span class=\"toc-item-num\">5.1&nbsp;&nbsp;</span>Fix datatype and data issues</a></span></li><li><span><a href=\"#Bisect-search-matching-join\" data-toc-modified-id=\"Bisect-search-matching-join-5.2\"><span class=\"toc-item-num\">5.2&nbsp;&nbsp;</span>Bisect search matching join</a></span></li></ul></li><li><span><a href=\"#Data-Cleaning\" data-toc-modified-id=\"Data-Cleaning-6\"><span class=\"toc-item-num\">6&nbsp;&nbsp;</span>Data Cleaning</a></span><ul class=\"toc-item\"><li><span><a href=\"#drop-unmatched-records-and-the-ip_address-column,-since-we-will-use-country-column\" data-toc-modified-id=\"drop-unmatched-records-and-the-ip_address-column,-since-we-will-use-country-column-6.1\"><span class=\"toc-item-num\">6.1&nbsp;&nbsp;</span>drop unmatched records and the <code>ip_address</code> column, since we will use <code>country</code> column</a></span></li><li><span><a href=\"#Impute-missing-values-(Although-we-do-not-have-missing-value,-but-I-will-keep-this-part-at-here,-just-in-case-the-new-data-has-missing-values)\" data-toc-modified-id=\"Impute-missing-values-(Although-we-do-not-have-missing-value,-but-I-will-keep-this-part-at-here,-just-in-case-the-new-data-has-missing-values)-6.2\"><span class=\"toc-item-num\">6.2&nbsp;&nbsp;</span>Impute missing values (Although we do not have missing value, but I will keep this part at here, just in case the new data has missing values)</a></span><ul class=\"toc-item\"><li><span><a href=\"#Barplots-on-categorical-variables\" data-toc-modified-id=\"Barplots-on-categorical-variables-6.2.1\"><span class=\"toc-item-num\">6.2.1&nbsp;&nbsp;</span>Barplots on categorical variables</a></span></li><li><span><a href=\"#Violinplots-on-quantitative-variables\" data-toc-modified-id=\"Violinplots-on-quantitative-variables-6.2.2\"><span class=\"toc-item-num\">6.2.2&nbsp;&nbsp;</span>Violinplots on quantitative variables</a></span></li><li><span><a href=\"#Filling-missing-value\" data-toc-modified-id=\"Filling-missing-value-6.2.3\"><span class=\"toc-item-num\">6.2.3&nbsp;&nbsp;</span>Filling missing value</a></span></li><li><span><a href=\"#Recheck-missing-value\" data-toc-modified-id=\"Recheck-missing-value-6.2.4\"><span class=\"toc-item-num\">6.2.4&nbsp;&nbsp;</span>Recheck missing value</a></span></li></ul></li></ul></li><li><span><a href=\"#Data-Exploration\" data-toc-modified-id=\"Data-Exploration-7\"><span class=\"toc-item-num\">7&nbsp;&nbsp;</span>Data Exploration</a></span><ul class=\"toc-item\"><li><span><a href=\"#unbalance-check\" data-toc-modified-id=\"unbalance-check-7.1\"><span class=\"toc-item-num\">7.1&nbsp;&nbsp;</span>unbalance check</a></span></li><li><span><a href=\"#numerical-data-and-categrical-data-.vs.-class\" data-toc-modified-id=\"numerical-data-and-categrical-data-.vs.-class-7.2\"><span class=\"toc-item-num\">7.2&nbsp;&nbsp;</span>numerical data and categrical data .vs. class</a></span></li><li><span><a href=\"#Visualizations\" data-toc-modified-id=\"Visualizations-7.3\"><span class=\"toc-item-num\">7.3&nbsp;&nbsp;</span>Visualizations</a></span></li><li><span><a href=\"#Correlation\" data-toc-modified-id=\"Correlation-7.4\"><span class=\"toc-item-num\">7.4&nbsp;&nbsp;</span>Correlation</a></span></li></ul></li><li><span><a href=\"#Feature-Engineering\" data-toc-modified-id=\"Feature-Engineering-8\"><span class=\"toc-item-num\">8&nbsp;&nbsp;</span>Feature Engineering</a></span><ul class=\"toc-item\"><li><span><a href=\"#Time-related\" data-toc-modified-id=\"Time-related-8.1\"><span class=\"toc-item-num\">8.1&nbsp;&nbsp;</span>Time related</a></span></li><li><span><a href=\"#device_id-related\" data-toc-modified-id=\"device_id-related-8.2\"><span class=\"toc-item-num\">8.2&nbsp;&nbsp;</span>device_id related</a></span></li><li><span><a href=\"#country-related\" data-toc-modified-id=\"country-related-8.3\"><span class=\"toc-item-num\">8.3&nbsp;&nbsp;</span>country related</a></span></li><li><span><a href=\"#Selected-features\" data-toc-modified-id=\"Selected-features-8.4\"><span class=\"toc-item-num\">8.4&nbsp;&nbsp;</span>Selected features</a></span><ul class=\"toc-item\"><li><span><a href=\"#get-dummy-variable-for-categrical-data\" data-toc-modified-id=\"get-dummy-variable-for-categrical-data-8.4.1\"><span class=\"toc-item-num\">8.4.1&nbsp;&nbsp;</span>get dummy variable for categrical data</a></span></li><li><span><a href=\"#Selected-features\" data-toc-modified-id=\"Selected-features-8.4.2\"><span class=\"toc-item-num\">8.4.2&nbsp;&nbsp;</span>Selected features</a></span></li><li><span><a href=\"#Deal-with-unbalance-data:-Over-sampling-using-SMOTE\" data-toc-modified-id=\"Deal-with-unbalance-data:-Over-sampling-using-SMOTE-8.4.3\"><span class=\"toc-item-num\">8.4.3&nbsp;&nbsp;</span>Deal with unbalance data: Over-sampling using SMOTE</a></span></li></ul></li></ul></li><li><span><a href=\"#modeling\" data-toc-modified-id=\"modeling-9\"><span class=\"toc-item-num\">9&nbsp;&nbsp;</span>modeling</a></span><ul class=\"toc-item\"><li><span><a href=\"#LogisticRegression\" data-toc-modified-id=\"LogisticRegression-9.1\"><span class=\"toc-item-num\">9.1&nbsp;&nbsp;</span>LogisticRegression</a></span><ul class=\"toc-item\"><li><span><a href=\"#Regularized--LogisticRegression\" data-toc-modified-id=\"Regularized--LogisticRegression-9.1.1\"><span class=\"toc-item-num\">9.1.1&nbsp;&nbsp;</span>Regularized  LogisticRegression</a></span></li><li><span><a href=\"#Model-performance-metrics\" data-toc-modified-id=\"Model-performance-metrics-9.1.2\"><span class=\"toc-item-num\">9.1.2&nbsp;&nbsp;</span>Model performance metrics</a></span></li><li><span><a href=\"#cross-validation\" data-toc-modified-id=\"cross-validation-9.1.3\"><span class=\"toc-item-num\">9.1.3&nbsp;&nbsp;</span>cross validation</a></span></li><li><span><a href=\"#Finance-cost\" data-toc-modified-id=\"Finance-cost-9.1.4\"><span class=\"toc-item-num\">9.1.4&nbsp;&nbsp;</span>Finance cost</a></span></li></ul></li><li><span><a href=\"#RandomForestClassifier\" data-toc-modified-id=\"RandomForestClassifier-9.2\"><span class=\"toc-item-num\">9.2&nbsp;&nbsp;</span>RandomForestClassifier</a></span><ul class=\"toc-item\"><li><span><a href=\"#Basic-RandomForst\" data-toc-modified-id=\"Basic-RandomForst-9.2.1\"><span class=\"toc-item-num\">9.2.1&nbsp;&nbsp;</span>Basic RandomForst</a></span><ul class=\"toc-item\"><li><span><a href=\"#Save-and-load-best-model\" data-toc-modified-id=\"Save-and-load-best-model-9.2.1.1\"><span class=\"toc-item-num\">9.2.1.1&nbsp;&nbsp;</span>Save and load best model</a></span></li><li><span><a href=\"#Model-performance-metrics\" data-toc-modified-id=\"Model-performance-metrics-9.2.1.2\"><span class=\"toc-item-num\">9.2.1.2&nbsp;&nbsp;</span>Model performance metrics</a></span></li><li><span><a href=\"#Finance-cost\" data-toc-modified-id=\"Finance-cost-9.2.1.3\"><span class=\"toc-item-num\">9.2.1.3&nbsp;&nbsp;</span>Finance cost</a></span></li></ul></li><li><span><a href=\"#Tuned-RandomForst\" data-toc-modified-id=\"Tuned-RandomForst-9.2.2\"><span class=\"toc-item-num\">9.2.2&nbsp;&nbsp;</span>Tuned RandomForst</a></span><ul class=\"toc-item\"><li><span><a href=\"#Random-Hyperparameters-Grid-Search\" data-toc-modified-id=\"Random-Hyperparameters-Grid-Search-9.2.2.1\"><span class=\"toc-item-num\">9.2.2.1&nbsp;&nbsp;</span>Random Hyperparameters Grid Search</a></span></li><li><span><a href=\"#Save-best-model--and-load--best-model\" data-toc-modified-id=\"Save-best-model--and-load--best-model-9.2.2.2\"><span class=\"toc-item-num\">9.2.2.2&nbsp;&nbsp;</span>Save best model  and load  best model</a></span></li><li><span><a href=\"#Model-performance-metrics\" data-toc-modified-id=\"Model-performance-metrics-9.2.2.3\"><span class=\"toc-item-num\">9.2.2.3&nbsp;&nbsp;</span>Model performance metrics</a></span></li><li><span><a href=\"#Finance-cost\" data-toc-modified-id=\"Finance-cost-9.2.2.4\"><span class=\"toc-item-num\">9.2.2.4&nbsp;&nbsp;</span>Finance cost</a></span></li></ul></li></ul></li><li><span><a href=\"#XGBClassifier\" data-toc-modified-id=\"XGBClassifier-9.3\"><span class=\"toc-item-num\">9.3&nbsp;&nbsp;</span>XGBClassifier</a></span><ul class=\"toc-item\"><li><span><a href=\"#Basic-XGBClassifier\" data-toc-modified-id=\"Basic-XGBClassifier-9.3.1\"><span class=\"toc-item-num\">9.3.1&nbsp;&nbsp;</span>Basic XGBClassifier</a></span><ul class=\"toc-item\"><li><span><a href=\"#Model-performance-metrics\" data-toc-modified-id=\"Model-performance-metrics-9.3.1.1\"><span class=\"toc-item-num\">9.3.1.1&nbsp;&nbsp;</span>Model performance metrics</a></span></li><li><span><a href=\"#Finance-cost\" data-toc-modified-id=\"Finance-cost-9.3.1.2\"><span class=\"toc-item-num\">9.3.1.2&nbsp;&nbsp;</span>Finance cost</a></span></li></ul></li><li><span><a href=\"#Tuned-XGBClassifier\" data-toc-modified-id=\"Tuned-XGBClassifier-9.3.2\"><span class=\"toc-item-num\">9.3.2&nbsp;&nbsp;</span>Tuned XGBClassifier</a></span><ul class=\"toc-item\"><li><span><a href=\"#Model-performance-metrics\" data-toc-modified-id=\"Model-performance-metrics-9.3.2.1\"><span class=\"toc-item-num\">9.3.2.1&nbsp;&nbsp;</span>Model performance metrics</a></span></li><li><span><a href=\"#Finance-cost\" data-toc-modified-id=\"Finance-cost-9.3.2.2\"><span class=\"toc-item-num\">9.3.2.2&nbsp;&nbsp;</span>Finance cost</a></span></li></ul></li></ul></li></ul></li></ul></div>"
   ]
  },
  {
   "cell_type": "markdown",
   "metadata": {},
   "source": [
    "### Summary\n",
    "\n",
    "This is a challenge project due to the following reasons:\n",
    " - Available features are limited \n",
    " - Most of the features are not contribution to the target too much \n",
    " - Highly unbalance data\n",
    " - Computing resource limitation on local machine (3 GHz Intel Core i7 with 8 GB Memory) \n",
    "\n",
    "In order to overcome the above obstacles, I performed the following steps:\n",
    " - Tried to build features as many as possible based on the existing features \n",
    " - Performed feature selection to choose the proper features\n",
    " - Applied Over-sampling using SMOTE\n",
    " - Performed RandomizedSearchCV to tune the Hyperparameters (not fully tuned)\n",
    " \n",
    "Model investigated in this Assessment:\n",
    "\n",
    " - Regularized `LogisticRegression` \n",
    " - `RandomForestClassifier`\n",
    " - `XGBClassifier`\n",
    " \n",
    "**Model Performance Comparison**\n",
    " - Performance (The markdown table didn't show correctly in GitHub, so I add a figure at here): \n",
    " \n",
    "    <img src=\"performance.png\" width=\"800\" />\n",
    "   \n",
    "    |Model             |Accuracy| Recall|F1-score|Finance cost: Total|Finance cost: FN|Finance cost: FP|\n",
    "    |------------------|--------|-------|--------|----------------|----------------|-------------------|\n",
    "    |LogisticRegression|0.9509  |0.5396 |0.6771  |60488           |  1440          |  59048            |\n",
    "    |Basic RandomForest|0.9557  |0.5370 |0.6978  |59452           |  56            |  59396            |\n",
    "    |Tuned RandomForest|0.9558  |0.5373 |0.6986  |59383           |  24            |  59359            |\n",
    "    |Basic XGB         |0.9556  |0.5431 |0.6997  |58843           |  256           |  58587            |\n",
    "    |Tuned XGB         |0.9555  |0.5402 |0.6984  |59131           |  184           |  58947            |\n",
    "    \n",
    "    \n",
    "    \n",
    " - Due to the highly unbalanced nature, all the models have a good accuracy, but a bad recall score.   \n",
    " - Caution: The tuned model should be much better. I didn't do the fine tunning due to the the limited computing resource on my local machine.            \n",
    "    \n",
    "**Model Recommendation**\n",
    "\n",
    "According to the above model performance metrics and Finance cost, I will recommend the baisc XGB model as final model. Since it has the highest F1-score and the lowest total finance cost. Moreover, it has a reasonable computing time. If I enough computing resource and time, I believe the Tuned XBG will have better performance than Basic XGB.   \n",
    "\n",
    "**Next Steps**\n",
    "\n",
    "  - Improve the performance by adding more features to the models, especially improve the recall score\n",
    "  - Fine tune the model with lager RandomizedSearchCV parameters"
   ]
  },
  {
   "cell_type": "markdown",
   "metadata": {},
   "source": [
    "### Import libraries\n",
    "\n",
    "Import basic python library, preprocessing, modeling and visualization libraries "
   ]
  },
  {
   "cell_type": "code",
   "execution_count": 145,
   "metadata": {},
   "outputs": [],
   "source": [
    "import os\n",
    "import sys\n",
    "import bisect\n",
    "import datetime\n",
    "import itertools\n",
    "import pandas as pd\n",
    "import numpy as np\n",
    "\n",
    "import PyAudit\n",
    "from imblearn.over_sampling import SMOTE\n",
    "from sklearn import preprocessing\n",
    "from sklearn.feature_selection import RFE\n",
    "from sklearn.preprocessing import  OneHotEncoder\n",
    "from sklearn.preprocessing import StandardScaler\n",
    "from sklearn.metrics import classification_report\n",
    "from sklearn.metrics import confusion_matrix\n",
    "from sklearn.metrics import f1_score, recall_score\n",
    "from sklearn.linear_model import LogisticRegression\n",
    "from sklearn.ensemble import RandomForestClassifier\n",
    "from sklearn.model_selection import train_test_split\n",
    "from sklearn.model_selection import cross_val_score\n",
    "\n",
    "from xgboost import XGBClassifier\n",
    "\n",
    "from joblib import dump, load\n",
    "\n",
    "import matplotlib.pyplot as plt \n",
    "%matplotlib inline\n",
    "plt.rc(\"font\", size=14)\n",
    "import seaborn as sns\n",
    "sns.set(style=\"white\")\n",
    "sns.set(style=\"whitegrid\", color_codes=True)\n",
    "\n",
    "#ignore warnings\n",
    "import warnings\n",
    "warnings.filterwarnings('ignore')"
   ]
  },
  {
   "cell_type": "markdown",
   "metadata": {},
   "source": [
    "### Load data"
   ]
  },
  {
   "cell_type": "markdown",
   "metadata": {},
   "source": [
    "#### Load fraud data"
   ]
  },
  {
   "cell_type": "code",
   "execution_count": 166,
   "metadata": {},
   "outputs": [],
   "source": [
    "df_user = pd.read_csv('data/fraud.csv')"
   ]
  },
  {
   "cell_type": "code",
   "execution_count": 167,
   "metadata": {},
   "outputs": [
    {
     "data": {
      "text/html": [
       "<div>\n",
       "<style scoped>\n",
       "    .dataframe tbody tr th:only-of-type {\n",
       "        vertical-align: middle;\n",
       "    }\n",
       "\n",
       "    .dataframe tbody tr th {\n",
       "        vertical-align: top;\n",
       "    }\n",
       "\n",
       "    .dataframe thead th {\n",
       "        text-align: right;\n",
       "    }\n",
       "</style>\n",
       "<table border=\"1\" class=\"dataframe\">\n",
       "  <thead>\n",
       "    <tr style=\"text-align: right;\">\n",
       "      <th></th>\n",
       "      <th>Unnamed: 0</th>\n",
       "      <th>user_id</th>\n",
       "      <th>signup_time</th>\n",
       "      <th>purchase_time</th>\n",
       "      <th>purchase_value</th>\n",
       "      <th>device_id</th>\n",
       "      <th>source</th>\n",
       "      <th>browser</th>\n",
       "      <th>sex</th>\n",
       "      <th>age</th>\n",
       "      <th>ip_address</th>\n",
       "      <th>class</th>\n",
       "    </tr>\n",
       "  </thead>\n",
       "  <tbody>\n",
       "    <tr>\n",
       "      <th>0</th>\n",
       "      <td>149671</td>\n",
       "      <td>285108</td>\n",
       "      <td>7/15/2015 4:36</td>\n",
       "      <td>9/10/2015 14:17</td>\n",
       "      <td>31</td>\n",
       "      <td>HZAKVUFTDOSFD</td>\n",
       "      <td>Direct</td>\n",
       "      <td>Chrome</td>\n",
       "      <td>M</td>\n",
       "      <td>49</td>\n",
       "      <td>2.818400e+09</td>\n",
       "      <td>0</td>\n",
       "    </tr>\n",
       "    <tr>\n",
       "      <th>1</th>\n",
       "      <td>15611</td>\n",
       "      <td>131009</td>\n",
       "      <td>1/24/2015 12:29</td>\n",
       "      <td>4/13/2015 4:53</td>\n",
       "      <td>31</td>\n",
       "      <td>XGQAJSOUJIZCC</td>\n",
       "      <td>SEO</td>\n",
       "      <td>IE</td>\n",
       "      <td>F</td>\n",
       "      <td>21</td>\n",
       "      <td>3.251268e+09</td>\n",
       "      <td>0</td>\n",
       "    </tr>\n",
       "    <tr>\n",
       "      <th>2</th>\n",
       "      <td>73178</td>\n",
       "      <td>328855</td>\n",
       "      <td>3/11/2015 0:54</td>\n",
       "      <td>4/5/2015 12:23</td>\n",
       "      <td>16</td>\n",
       "      <td>VCCTAYDCWKZIY</td>\n",
       "      <td>Direct</td>\n",
       "      <td>IE</td>\n",
       "      <td>M</td>\n",
       "      <td>26</td>\n",
       "      <td>2.727760e+09</td>\n",
       "      <td>0</td>\n",
       "    </tr>\n",
       "    <tr>\n",
       "      <th>3</th>\n",
       "      <td>84546</td>\n",
       "      <td>229053</td>\n",
       "      <td>1/7/2015 13:19</td>\n",
       "      <td>1/9/2015 10:12</td>\n",
       "      <td>29</td>\n",
       "      <td>MFFIHYNXCJLEY</td>\n",
       "      <td>SEO</td>\n",
       "      <td>Chrome</td>\n",
       "      <td>M</td>\n",
       "      <td>34</td>\n",
       "      <td>2.083420e+09</td>\n",
       "      <td>0</td>\n",
       "    </tr>\n",
       "    <tr>\n",
       "      <th>4</th>\n",
       "      <td>35978</td>\n",
       "      <td>108439</td>\n",
       "      <td>2/8/2015 21:11</td>\n",
       "      <td>4/9/2015 14:26</td>\n",
       "      <td>26</td>\n",
       "      <td>WMSXWGVPNIFBM</td>\n",
       "      <td>Ads</td>\n",
       "      <td>FireFox</td>\n",
       "      <td>M</td>\n",
       "      <td>33</td>\n",
       "      <td>3.207913e+09</td>\n",
       "      <td>0</td>\n",
       "    </tr>\n",
       "  </tbody>\n",
       "</table>\n",
       "</div>"
      ],
      "text/plain": [
       "   Unnamed: 0  user_id      signup_time    purchase_time  purchase_value  \\\n",
       "0      149671   285108   7/15/2015 4:36  9/10/2015 14:17              31   \n",
       "1       15611   131009  1/24/2015 12:29   4/13/2015 4:53              31   \n",
       "2       73178   328855   3/11/2015 0:54   4/5/2015 12:23              16   \n",
       "3       84546   229053   1/7/2015 13:19   1/9/2015 10:12              29   \n",
       "4       35978   108439   2/8/2015 21:11   4/9/2015 14:26              26   \n",
       "\n",
       "       device_id  source  browser sex  age    ip_address  class  \n",
       "0  HZAKVUFTDOSFD  Direct   Chrome   M   49  2.818400e+09      0  \n",
       "1  XGQAJSOUJIZCC     SEO       IE   F   21  3.251268e+09      0  \n",
       "2  VCCTAYDCWKZIY  Direct       IE   M   26  2.727760e+09      0  \n",
       "3  MFFIHYNXCJLEY     SEO   Chrome   M   34  2.083420e+09      0  \n",
       "4  WMSXWGVPNIFBM     Ads  FireFox   M   33  3.207913e+09      0  "
      ]
     },
     "execution_count": 167,
     "metadata": {},
     "output_type": "execute_result"
    }
   ],
   "source": [
    "df_user.head(5)"
   ]
  },
  {
   "cell_type": "code",
   "execution_count": 5,
   "metadata": {},
   "outputs": [
    {
     "data": {
      "text/html": [
       "<div>\n",
       "<style scoped>\n",
       "    .dataframe tbody tr th:only-of-type {\n",
       "        vertical-align: middle;\n",
       "    }\n",
       "\n",
       "    .dataframe tbody tr th {\n",
       "        vertical-align: top;\n",
       "    }\n",
       "\n",
       "    .dataframe thead th {\n",
       "        text-align: right;\n",
       "    }\n",
       "</style>\n",
       "<table border=\"1\" class=\"dataframe\">\n",
       "  <thead>\n",
       "    <tr style=\"text-align: right;\">\n",
       "      <th></th>\n",
       "      <th>Unnamed: 0</th>\n",
       "      <th>user_id</th>\n",
       "      <th>purchase_value</th>\n",
       "      <th>age</th>\n",
       "      <th>ip_address</th>\n",
       "      <th>class</th>\n",
       "    </tr>\n",
       "  </thead>\n",
       "  <tbody>\n",
       "    <tr>\n",
       "      <th>count</th>\n",
       "      <td>120000.000000</td>\n",
       "      <td>120000.000000</td>\n",
       "      <td>120000.000000</td>\n",
       "      <td>120000.000000</td>\n",
       "      <td>1.200000e+05</td>\n",
       "      <td>120000.000000</td>\n",
       "    </tr>\n",
       "    <tr>\n",
       "      <th>mean</th>\n",
       "      <td>75639.133600</td>\n",
       "      <td>200320.280100</td>\n",
       "      <td>36.881475</td>\n",
       "      <td>33.125250</td>\n",
       "      <td>2.151550e+09</td>\n",
       "      <td>0.093875</td>\n",
       "    </tr>\n",
       "    <tr>\n",
       "      <th>std</th>\n",
       "      <td>43619.702878</td>\n",
       "      <td>115361.945935</td>\n",
       "      <td>18.325855</td>\n",
       "      <td>8.617081</td>\n",
       "      <td>1.248314e+09</td>\n",
       "      <td>0.291656</td>\n",
       "    </tr>\n",
       "    <tr>\n",
       "      <th>min</th>\n",
       "      <td>1.000000</td>\n",
       "      <td>2.000000</td>\n",
       "      <td>9.000000</td>\n",
       "      <td>18.000000</td>\n",
       "      <td>9.344714e+04</td>\n",
       "      <td>0.000000</td>\n",
       "    </tr>\n",
       "    <tr>\n",
       "      <th>25%</th>\n",
       "      <td>37867.750000</td>\n",
       "      <td>100925.500000</td>\n",
       "      <td>22.000000</td>\n",
       "      <td>27.000000</td>\n",
       "      <td>1.085345e+09</td>\n",
       "      <td>0.000000</td>\n",
       "    </tr>\n",
       "    <tr>\n",
       "      <th>50%</th>\n",
       "      <td>75703.000000</td>\n",
       "      <td>200037.500000</td>\n",
       "      <td>34.000000</td>\n",
       "      <td>33.000000</td>\n",
       "      <td>2.155238e+09</td>\n",
       "      <td>0.000000</td>\n",
       "    </tr>\n",
       "    <tr>\n",
       "      <th>75%</th>\n",
       "      <td>113417.250000</td>\n",
       "      <td>300395.500000</td>\n",
       "      <td>49.000000</td>\n",
       "      <td>39.000000</td>\n",
       "      <td>3.241268e+09</td>\n",
       "      <td>0.000000</td>\n",
       "    </tr>\n",
       "    <tr>\n",
       "      <th>max</th>\n",
       "      <td>151112.000000</td>\n",
       "      <td>400000.000000</td>\n",
       "      <td>154.000000</td>\n",
       "      <td>76.000000</td>\n",
       "      <td>4.294850e+09</td>\n",
       "      <td>1.000000</td>\n",
       "    </tr>\n",
       "  </tbody>\n",
       "</table>\n",
       "</div>"
      ],
      "text/plain": [
       "          Unnamed: 0        user_id  purchase_value            age  \\\n",
       "count  120000.000000  120000.000000   120000.000000  120000.000000   \n",
       "mean    75639.133600  200320.280100       36.881475      33.125250   \n",
       "std     43619.702878  115361.945935       18.325855       8.617081   \n",
       "min         1.000000       2.000000        9.000000      18.000000   \n",
       "25%     37867.750000  100925.500000       22.000000      27.000000   \n",
       "50%     75703.000000  200037.500000       34.000000      33.000000   \n",
       "75%    113417.250000  300395.500000       49.000000      39.000000   \n",
       "max    151112.000000  400000.000000      154.000000      76.000000   \n",
       "\n",
       "         ip_address          class  \n",
       "count  1.200000e+05  120000.000000  \n",
       "mean   2.151550e+09       0.093875  \n",
       "std    1.248314e+09       0.291656  \n",
       "min    9.344714e+04       0.000000  \n",
       "25%    1.085345e+09       0.000000  \n",
       "50%    2.155238e+09       0.000000  \n",
       "75%    3.241268e+09       0.000000  \n",
       "max    4.294850e+09       1.000000  "
      ]
     },
     "execution_count": 5,
     "metadata": {},
     "output_type": "execute_result"
    }
   ],
   "source": [
    "df_user.describe()"
   ]
  },
  {
   "cell_type": "markdown",
   "metadata": {},
   "source": [
    "#### Load ip to country data"
   ]
  },
  {
   "cell_type": "code",
   "execution_count": 168,
   "metadata": {},
   "outputs": [],
   "source": [
    "df_ip  = pd.read_excel('data/IpAddress_to_Country.xlsx')"
   ]
  },
  {
   "cell_type": "code",
   "execution_count": 7,
   "metadata": {},
   "outputs": [
    {
     "data": {
      "text/html": [
       "<div>\n",
       "<style scoped>\n",
       "    .dataframe tbody tr th:only-of-type {\n",
       "        vertical-align: middle;\n",
       "    }\n",
       "\n",
       "    .dataframe tbody tr th {\n",
       "        vertical-align: top;\n",
       "    }\n",
       "\n",
       "    .dataframe thead th {\n",
       "        text-align: right;\n",
       "    }\n",
       "</style>\n",
       "<table border=\"1\" class=\"dataframe\">\n",
       "  <thead>\n",
       "    <tr style=\"text-align: right;\">\n",
       "      <th></th>\n",
       "      <th>lower_bound_ip_address</th>\n",
       "      <th>upper_bound_ip_address</th>\n",
       "      <th>country</th>\n",
       "    </tr>\n",
       "  </thead>\n",
       "  <tbody>\n",
       "    <tr>\n",
       "      <th>0</th>\n",
       "      <td>16777216</td>\n",
       "      <td>16777471</td>\n",
       "      <td>Australia</td>\n",
       "    </tr>\n",
       "    <tr>\n",
       "      <th>1</th>\n",
       "      <td>16777472</td>\n",
       "      <td>16777727</td>\n",
       "      <td>China</td>\n",
       "    </tr>\n",
       "    <tr>\n",
       "      <th>2</th>\n",
       "      <td>16777728</td>\n",
       "      <td>16778239</td>\n",
       "      <td>China</td>\n",
       "    </tr>\n",
       "    <tr>\n",
       "      <th>3</th>\n",
       "      <td>16778240</td>\n",
       "      <td>16779263</td>\n",
       "      <td>Australia</td>\n",
       "    </tr>\n",
       "    <tr>\n",
       "      <th>4</th>\n",
       "      <td>16779264</td>\n",
       "      <td>16781311</td>\n",
       "      <td>China</td>\n",
       "    </tr>\n",
       "  </tbody>\n",
       "</table>\n",
       "</div>"
      ],
      "text/plain": [
       "   lower_bound_ip_address  upper_bound_ip_address    country\n",
       "0                16777216                16777471  Australia\n",
       "1                16777472                16777727      China\n",
       "2                16777728                16778239      China\n",
       "3                16778240                16779263  Australia\n",
       "4                16779264                16781311      China"
      ]
     },
     "execution_count": 7,
     "metadata": {},
     "output_type": "execute_result"
    }
   ],
   "source": [
    "df_ip.head(5)"
   ]
  },
  {
   "cell_type": "code",
   "execution_count": 8,
   "metadata": {},
   "outputs": [
    {
     "data": {
      "text/html": [
       "<div>\n",
       "<style scoped>\n",
       "    .dataframe tbody tr th:only-of-type {\n",
       "        vertical-align: middle;\n",
       "    }\n",
       "\n",
       "    .dataframe tbody tr th {\n",
       "        vertical-align: top;\n",
       "    }\n",
       "\n",
       "    .dataframe thead th {\n",
       "        text-align: right;\n",
       "    }\n",
       "</style>\n",
       "<table border=\"1\" class=\"dataframe\">\n",
       "  <thead>\n",
       "    <tr style=\"text-align: right;\">\n",
       "      <th></th>\n",
       "      <th>lower_bound_ip_address</th>\n",
       "      <th>upper_bound_ip_address</th>\n",
       "    </tr>\n",
       "  </thead>\n",
       "  <tbody>\n",
       "    <tr>\n",
       "      <th>count</th>\n",
       "      <td>1.388460e+05</td>\n",
       "      <td>1.388460e+05</td>\n",
       "    </tr>\n",
       "    <tr>\n",
       "      <th>mean</th>\n",
       "      <td>2.724532e+09</td>\n",
       "      <td>2.724557e+09</td>\n",
       "    </tr>\n",
       "    <tr>\n",
       "      <th>std</th>\n",
       "      <td>8.975215e+08</td>\n",
       "      <td>8.974979e+08</td>\n",
       "    </tr>\n",
       "    <tr>\n",
       "      <th>min</th>\n",
       "      <td>1.677722e+07</td>\n",
       "      <td>1.677747e+07</td>\n",
       "    </tr>\n",
       "    <tr>\n",
       "      <th>25%</th>\n",
       "      <td>1.919930e+09</td>\n",
       "      <td>1.920008e+09</td>\n",
       "    </tr>\n",
       "    <tr>\n",
       "      <th>50%</th>\n",
       "      <td>3.230887e+09</td>\n",
       "      <td>3.230888e+09</td>\n",
       "    </tr>\n",
       "    <tr>\n",
       "      <th>75%</th>\n",
       "      <td>3.350465e+09</td>\n",
       "      <td>3.350466e+09</td>\n",
       "    </tr>\n",
       "    <tr>\n",
       "      <th>max</th>\n",
       "      <td>3.758096e+09</td>\n",
       "      <td>3.758096e+09</td>\n",
       "    </tr>\n",
       "  </tbody>\n",
       "</table>\n",
       "</div>"
      ],
      "text/plain": [
       "       lower_bound_ip_address  upper_bound_ip_address\n",
       "count            1.388460e+05            1.388460e+05\n",
       "mean             2.724532e+09            2.724557e+09\n",
       "std              8.975215e+08            8.974979e+08\n",
       "min              1.677722e+07            1.677747e+07\n",
       "25%              1.919930e+09            1.920008e+09\n",
       "50%              3.230887e+09            3.230888e+09\n",
       "75%              3.350465e+09            3.350466e+09\n",
       "max              3.758096e+09            3.758096e+09"
      ]
     },
     "execution_count": 8,
     "metadata": {},
     "output_type": "execute_result"
    }
   ],
   "source": [
    "df_ip.describe()"
   ]
  },
  {
   "cell_type": "markdown",
   "metadata": {},
   "source": [
    "### Raw data audit\n",
    "\n",
    "This step mainly focus on data quality checking. In order to make sure, we have high quality data to build model. This step can be done automatically by using my package [PyAudit](https://runawayhorse001.github.io/PyAudit/). I will only show several components to demonstrate. Caution: This is audit for raw data. You can correct the data type and then apply the function to audit the data.\n",
    "\n",
    "**Useful information from this step:**\n",
    "\n",
    "- The audited numerical summaries indicate that:\n",
    "    - The numerical data has a very low missing value rate and zero value rate \n",
    "    - The correlation coefficient matrix indicates that the numerical data have a low correlation \n",
    "    - The length of `user_id` is not consistent, need to pay attention \n",
    "    - The length of `ip_address` is not consistent, 501 of them are decimals, need to fix it\n",
    "    - The distribution plot indicated that the `purchase_value` and `age` are approximately obey skewed normal distribution \n",
    "    - The `class` types are highly unbalanced \n"
   ]
  },
  {
   "cell_type": "code",
   "execution_count": 9,
   "metadata": {},
   "outputs": [
    {
     "data": {
      "text/plain": [
       "<Figure size 432x288 with 0 Axes>"
      ]
     },
     "metadata": {},
     "output_type": "display_data"
    },
    {
     "data": {
      "image/png": "[encoded data removed]",
      "text/plain": [
       "<Figure size 1080x1080 with 42 Axes>"
      ]
     },
     "metadata": {},
     "output_type": "display_data"
    },
    {
     "data": {
      "image/png": "[encoded data removed]",
      "text/plain": [
       "<Figure size 1152x360 with 2 Axes>"
      ]
     },
     "metadata": {},
     "output_type": "display_data"
    }
   ],
   "source": [
    "# Audit output path\n",
    "output = os.path.abspath(os.path.join(sys.path[0])) + '/output'\n",
    "\n",
    "# generate the audit results (.csv files in output folder)\n",
    "num_summary, cat_summary, corr = PyAudit.auditing(df_user, output)"
   ]
  },
  {
   "cell_type": "code",
   "execution_count": 10,
   "metadata": {},
   "outputs": [
    {
     "data": {
      "text/html": [
       "<div>\n",
       "<style scoped>\n",
       "    .dataframe tbody tr th:only-of-type {\n",
       "        vertical-align: middle;\n",
       "    }\n",
       "\n",
       "    .dataframe tbody tr th {\n",
       "        vertical-align: top;\n",
       "    }\n",
       "\n",
       "    .dataframe thead th {\n",
       "        text-align: right;\n",
       "    }\n",
       "</style>\n",
       "<table border=\"1\" class=\"dataframe\">\n",
       "  <thead>\n",
       "    <tr style=\"text-align: right;\">\n",
       "      <th></th>\n",
       "      <th>feature</th>\n",
       "      <th>data_type</th>\n",
       "      <th>min_digits</th>\n",
       "      <th>max_digits</th>\n",
       "      <th>row_count</th>\n",
       "      <th>notnull_count</th>\n",
       "      <th>distinct_count</th>\n",
       "      <th>top_values</th>\n",
       "      <th>top_freqs</th>\n",
       "      <th>min</th>\n",
       "      <th>...</th>\n",
       "      <th>max</th>\n",
       "      <th>mean</th>\n",
       "      <th>std</th>\n",
       "      <th>lower_95_ci</th>\n",
       "      <th>upper_95_ci</th>\n",
       "      <th>sum</th>\n",
       "      <th>missing_rate</th>\n",
       "      <th>zero_rate</th>\n",
       "      <th>pos_rate</th>\n",
       "      <th>neg_rate</th>\n",
       "    </tr>\n",
       "  </thead>\n",
       "  <tbody>\n",
       "    <tr>\n",
       "      <th>Unnamed: 0</th>\n",
       "      <td>Unnamed: 0</td>\n",
       "      <td>int64</td>\n",
       "      <td>1</td>\n",
       "      <td>6</td>\n",
       "      <td>120000</td>\n",
       "      <td>120000</td>\n",
       "      <td>120000</td>\n",
       "      <td>[2047, 42302, 50482, 52531]</td>\n",
       "      <td>[1, 1, 1, 1]</td>\n",
       "      <td>1</td>\n",
       "      <td>...</td>\n",
       "      <td>151112</td>\n",
       "      <td>75639.1</td>\n",
       "      <td>43619.7</td>\n",
       "      <td>75392.3</td>\n",
       "      <td>75885.9</td>\n",
       "      <td>9076696032</td>\n",
       "      <td>0</td>\n",
       "      <td>0</td>\n",
       "      <td>1</td>\n",
       "      <td>0</td>\n",
       "    </tr>\n",
       "    <tr>\n",
       "      <th>user_id</th>\n",
       "      <td>user_id</td>\n",
       "      <td>int64</td>\n",
       "      <td>1</td>\n",
       "      <td>6</td>\n",
       "      <td>120000</td>\n",
       "      <td>120000</td>\n",
       "      <td>120000</td>\n",
       "      <td>[264191, 104344, 333704, 335753]</td>\n",
       "      <td>[1, 1, 1, 1]</td>\n",
       "      <td>2</td>\n",
       "      <td>...</td>\n",
       "      <td>400000</td>\n",
       "      <td>200320</td>\n",
       "      <td>115362</td>\n",
       "      <td>199668</td>\n",
       "      <td>200973</td>\n",
       "      <td>24038433612</td>\n",
       "      <td>0</td>\n",
       "      <td>0</td>\n",
       "      <td>1</td>\n",
       "      <td>0</td>\n",
       "    </tr>\n",
       "    <tr>\n",
       "      <th>purchase_value</th>\n",
       "      <td>purchase_value</td>\n",
       "      <td>int64</td>\n",
       "      <td>1</td>\n",
       "      <td>3</td>\n",
       "      <td>120000</td>\n",
       "      <td>120000</td>\n",
       "      <td>120</td>\n",
       "      <td>[28, 24, 27, 32]</td>\n",
       "      <td>[2621, 2537, 2523, 2500]</td>\n",
       "      <td>9</td>\n",
       "      <td>...</td>\n",
       "      <td>154</td>\n",
       "      <td>36.8815</td>\n",
       "      <td>18.3259</td>\n",
       "      <td>36.7778</td>\n",
       "      <td>36.9852</td>\n",
       "      <td>4425777</td>\n",
       "      <td>0</td>\n",
       "      <td>0</td>\n",
       "      <td>1</td>\n",
       "      <td>0</td>\n",
       "    </tr>\n",
       "    <tr>\n",
       "      <th>age</th>\n",
       "      <td>age</td>\n",
       "      <td>int64</td>\n",
       "      <td>2</td>\n",
       "      <td>2</td>\n",
       "      <td>120000</td>\n",
       "      <td>120000</td>\n",
       "      <td>57</td>\n",
       "      <td>[32, 31, 33, 30]</td>\n",
       "      <td>[5340, 5228, 5193, 5074]</td>\n",
       "      <td>18</td>\n",
       "      <td>...</td>\n",
       "      <td>76</td>\n",
       "      <td>33.1253</td>\n",
       "      <td>8.61708</td>\n",
       "      <td>33.0765</td>\n",
       "      <td>33.174</td>\n",
       "      <td>3975030</td>\n",
       "      <td>0</td>\n",
       "      <td>0</td>\n",
       "      <td>1</td>\n",
       "      <td>0</td>\n",
       "    </tr>\n",
       "    <tr>\n",
       "      <th>ip_address</th>\n",
       "      <td>ip_address</td>\n",
       "      <td>float64</td>\n",
       "      <td>9</td>\n",
       "      <td>18</td>\n",
       "      <td>120000</td>\n",
       "      <td>120000</td>\n",
       "      <td>114134</td>\n",
       "      <td>[3874757617.0, 1502818420.0, 576060872.5, 2586...</td>\n",
       "      <td>[19, 17, 17, 16]</td>\n",
       "      <td>93447.1</td>\n",
       "      <td>...</td>\n",
       "      <td>4.29485e+09</td>\n",
       "      <td>2.15155e+09</td>\n",
       "      <td>1.24831e+09</td>\n",
       "      <td>2.14449e+09</td>\n",
       "      <td>2.15861e+09</td>\n",
       "      <td>2.58186e+14</td>\n",
       "      <td>0</td>\n",
       "      <td>0</td>\n",
       "      <td>1</td>\n",
       "      <td>0</td>\n",
       "    </tr>\n",
       "    <tr>\n",
       "      <th>class</th>\n",
       "      <td>class</td>\n",
       "      <td>int64</td>\n",
       "      <td>1</td>\n",
       "      <td>1</td>\n",
       "      <td>120000</td>\n",
       "      <td>120000</td>\n",
       "      <td>2</td>\n",
       "      <td>[0, 1]</td>\n",
       "      <td>[108735, 11265]</td>\n",
       "      <td>0</td>\n",
       "      <td>...</td>\n",
       "      <td>1</td>\n",
       "      <td>0.093875</td>\n",
       "      <td>0.291656</td>\n",
       "      <td>0.0922248</td>\n",
       "      <td>0.0955252</td>\n",
       "      <td>11265</td>\n",
       "      <td>0</td>\n",
       "      <td>0.906125</td>\n",
       "      <td>0.093875</td>\n",
       "      <td>0</td>\n",
       "    </tr>\n",
       "  </tbody>\n",
       "</table>\n",
       "<p>6 rows × 21 columns</p>\n",
       "</div>"
      ],
      "text/plain": [
       "                       feature data_type min_digits max_digits row_count  \\\n",
       "Unnamed: 0          Unnamed: 0     int64          1          6    120000   \n",
       "user_id                user_id     int64          1          6    120000   \n",
       "purchase_value  purchase_value     int64          1          3    120000   \n",
       "age                        age     int64          2          2    120000   \n",
       "ip_address          ip_address   float64          9         18    120000   \n",
       "class                    class     int64          1          1    120000   \n",
       "\n",
       "               notnull_count distinct_count  \\\n",
       "Unnamed: 0            120000         120000   \n",
       "user_id               120000         120000   \n",
       "purchase_value        120000            120   \n",
       "age                   120000             57   \n",
       "ip_address            120000         114134   \n",
       "class                 120000              2   \n",
       "\n",
       "                                                       top_values  \\\n",
       "Unnamed: 0                            [2047, 42302, 50482, 52531]   \n",
       "user_id                          [264191, 104344, 333704, 335753]   \n",
       "purchase_value                                   [28, 24, 27, 32]   \n",
       "age                                              [32, 31, 33, 30]   \n",
       "ip_address      [3874757617.0, 1502818420.0, 576060872.5, 2586...   \n",
       "class                                                      [0, 1]   \n",
       "\n",
       "                               top_freqs      min  ...          max  \\\n",
       "Unnamed: 0                  [1, 1, 1, 1]        1  ...       151112   \n",
       "user_id                     [1, 1, 1, 1]        2  ...       400000   \n",
       "purchase_value  [2621, 2537, 2523, 2500]        9  ...          154   \n",
       "age             [5340, 5228, 5193, 5074]       18  ...           76   \n",
       "ip_address              [19, 17, 17, 16]  93447.1  ...  4.29485e+09   \n",
       "class                    [108735, 11265]        0  ...            1   \n",
       "\n",
       "                       mean          std  lower_95_ci  upper_95_ci  \\\n",
       "Unnamed: 0          75639.1      43619.7      75392.3      75885.9   \n",
       "user_id              200320       115362       199668       200973   \n",
       "purchase_value      36.8815      18.3259      36.7778      36.9852   \n",
       "age                 33.1253      8.61708      33.0765       33.174   \n",
       "ip_address      2.15155e+09  1.24831e+09  2.14449e+09  2.15861e+09   \n",
       "class              0.093875     0.291656    0.0922248    0.0955252   \n",
       "\n",
       "                        sum missing_rate zero_rate  pos_rate neg_rate  \n",
       "Unnamed: 0       9076696032            0         0         1        0  \n",
       "user_id         24038433612            0         0         1        0  \n",
       "purchase_value      4425777            0         0         1        0  \n",
       "age                 3975030            0         0         1        0  \n",
       "ip_address      2.58186e+14            0         0         1        0  \n",
       "class                 11265            0  0.906125  0.093875        0  \n",
       "\n",
       "[6 rows x 21 columns]"
      ]
     },
     "execution_count": 10,
     "metadata": {},
     "output_type": "execute_result"
    }
   ],
   "source": [
    "num_summary"
   ]
  },
  {
   "cell_type": "code",
   "execution_count": 11,
   "metadata": {},
   "outputs": [
    {
     "data": {
      "text/html": [
       "<div>\n",
       "<style scoped>\n",
       "    .dataframe tbody tr th:only-of-type {\n",
       "        vertical-align: middle;\n",
       "    }\n",
       "\n",
       "    .dataframe tbody tr th {\n",
       "        vertical-align: top;\n",
       "    }\n",
       "\n",
       "    .dataframe thead th {\n",
       "        text-align: right;\n",
       "    }\n",
       "</style>\n",
       "<table border=\"1\" class=\"dataframe\">\n",
       "  <thead>\n",
       "    <tr style=\"text-align: right;\">\n",
       "      <th></th>\n",
       "      <th>feature</th>\n",
       "      <th>data_type</th>\n",
       "      <th>min_digits</th>\n",
       "      <th>max_digits</th>\n",
       "      <th>row_count</th>\n",
       "      <th>notnull_count</th>\n",
       "      <th>distinct_count</th>\n",
       "      <th>top_values</th>\n",
       "      <th>top_freqs</th>\n",
       "      <th>missing_rate</th>\n",
       "    </tr>\n",
       "  </thead>\n",
       "  <tbody>\n",
       "    <tr>\n",
       "      <th>signup_time</th>\n",
       "      <td>signup_time</td>\n",
       "      <td>object</td>\n",
       "      <td>13</td>\n",
       "      <td>15</td>\n",
       "      <td>120000</td>\n",
       "      <td>120000</td>\n",
       "      <td>109111</td>\n",
       "      <td>[1/6/2015 12:10, 1/6/2015 12:53, 1/10/2015 23:...</td>\n",
       "      <td>[21, 20, 19, 17]</td>\n",
       "      <td>0</td>\n",
       "    </tr>\n",
       "    <tr>\n",
       "      <th>purchase_time</th>\n",
       "      <td>purchase_time</td>\n",
       "      <td>object</td>\n",
       "      <td>13</td>\n",
       "      <td>16</td>\n",
       "      <td>120000</td>\n",
       "      <td>120000</td>\n",
       "      <td>100058</td>\n",
       "      <td>[1/6/2015 12:53, 1/6/2015 12:10, 1/10/2015 23:...</td>\n",
       "      <td>[20, 19, 18, 16]</td>\n",
       "      <td>0</td>\n",
       "    </tr>\n",
       "    <tr>\n",
       "      <th>device_id</th>\n",
       "      <td>device_id</td>\n",
       "      <td>object</td>\n",
       "      <td>13</td>\n",
       "      <td>13</td>\n",
       "      <td>120000</td>\n",
       "      <td>120000</td>\n",
       "      <td>110599</td>\n",
       "      <td>[ITUMJCKWEYNDD, ZUSVMDEZRBDTX, KIPFSCNUGOLDP, ...</td>\n",
       "      <td>[19, 17, 17, 17]</td>\n",
       "      <td>0</td>\n",
       "    </tr>\n",
       "    <tr>\n",
       "      <th>source</th>\n",
       "      <td>source</td>\n",
       "      <td>object</td>\n",
       "      <td>3</td>\n",
       "      <td>6</td>\n",
       "      <td>120000</td>\n",
       "      <td>120000</td>\n",
       "      <td>3</td>\n",
       "      <td>[SEO, Ads, Direct]</td>\n",
       "      <td>[48297, 47461, 24242]</td>\n",
       "      <td>0</td>\n",
       "    </tr>\n",
       "    <tr>\n",
       "      <th>browser</th>\n",
       "      <td>browser</td>\n",
       "      <td>object</td>\n",
       "      <td>2</td>\n",
       "      <td>7</td>\n",
       "      <td>120000</td>\n",
       "      <td>120000</td>\n",
       "      <td>5</td>\n",
       "      <td>[Chrome, IE, Safari, FireFox]</td>\n",
       "      <td>[48652, 29138, 19620, 19615]</td>\n",
       "      <td>0</td>\n",
       "    </tr>\n",
       "    <tr>\n",
       "      <th>sex</th>\n",
       "      <td>sex</td>\n",
       "      <td>object</td>\n",
       "      <td>1</td>\n",
       "      <td>1</td>\n",
       "      <td>120000</td>\n",
       "      <td>120000</td>\n",
       "      <td>2</td>\n",
       "      <td>[M, F]</td>\n",
       "      <td>[70126, 49874]</td>\n",
       "      <td>0</td>\n",
       "    </tr>\n",
       "  </tbody>\n",
       "</table>\n",
       "</div>"
      ],
      "text/plain": [
       "                     feature data_type min_digits max_digits row_count  \\\n",
       "signup_time      signup_time    object         13         15    120000   \n",
       "purchase_time  purchase_time    object         13         16    120000   \n",
       "device_id          device_id    object         13         13    120000   \n",
       "source                source    object          3          6    120000   \n",
       "browser              browser    object          2          7    120000   \n",
       "sex                      sex    object          1          1    120000   \n",
       "\n",
       "              notnull_count distinct_count  \\\n",
       "signup_time          120000         109111   \n",
       "purchase_time        120000         100058   \n",
       "device_id            120000         110599   \n",
       "source               120000              3   \n",
       "browser              120000              5   \n",
       "sex                  120000              2   \n",
       "\n",
       "                                                      top_values  \\\n",
       "signup_time    [1/6/2015 12:10, 1/6/2015 12:53, 1/10/2015 23:...   \n",
       "purchase_time  [1/6/2015 12:53, 1/6/2015 12:10, 1/10/2015 23:...   \n",
       "device_id      [ITUMJCKWEYNDD, ZUSVMDEZRBDTX, KIPFSCNUGOLDP, ...   \n",
       "source                                        [SEO, Ads, Direct]   \n",
       "browser                            [Chrome, IE, Safari, FireFox]   \n",
       "sex                                                       [M, F]   \n",
       "\n",
       "                                  top_freqs missing_rate  \n",
       "signup_time                [21, 20, 19, 17]            0  \n",
       "purchase_time              [20, 19, 18, 16]            0  \n",
       "device_id                  [19, 17, 17, 17]            0  \n",
       "source                [48297, 47461, 24242]            0  \n",
       "browser        [48652, 29138, 19620, 19615]            0  \n",
       "sex                          [70126, 49874]            0  "
      ]
     },
     "execution_count": 11,
     "metadata": {},
     "output_type": "execute_result"
    }
   ],
   "source": [
    "cat_summary"
   ]
  },
  {
   "cell_type": "code",
   "execution_count": 12,
   "metadata": {},
   "outputs": [
    {
     "data": {
      "text/html": [
       "<div>\n",
       "<style scoped>\n",
       "    .dataframe tbody tr th:only-of-type {\n",
       "        vertical-align: middle;\n",
       "    }\n",
       "\n",
       "    .dataframe tbody tr th {\n",
       "        vertical-align: top;\n",
       "    }\n",
       "\n",
       "    .dataframe thead th {\n",
       "        text-align: right;\n",
       "    }\n",
       "</style>\n",
       "<table border=\"1\" class=\"dataframe\">\n",
       "  <thead>\n",
       "    <tr style=\"text-align: right;\">\n",
       "      <th></th>\n",
       "      <th>Unnamed: 0</th>\n",
       "      <th>user_id</th>\n",
       "      <th>purchase_value</th>\n",
       "      <th>age</th>\n",
       "      <th>ip_address</th>\n",
       "      <th>class</th>\n",
       "    </tr>\n",
       "  </thead>\n",
       "  <tbody>\n",
       "    <tr>\n",
       "      <th>Unnamed: 0</th>\n",
       "      <td>1.000000</td>\n",
       "      <td>-0.003912</td>\n",
       "      <td>0.004454</td>\n",
       "      <td>0.003333</td>\n",
       "      <td>0.001391</td>\n",
       "      <td>0.001495</td>\n",
       "    </tr>\n",
       "    <tr>\n",
       "      <th>user_id</th>\n",
       "      <td>-0.003912</td>\n",
       "      <td>1.000000</td>\n",
       "      <td>0.002912</td>\n",
       "      <td>0.002750</td>\n",
       "      <td>-0.002924</td>\n",
       "      <td>-0.000022</td>\n",
       "    </tr>\n",
       "    <tr>\n",
       "      <th>purchase_value</th>\n",
       "      <td>0.004454</td>\n",
       "      <td>0.002912</td>\n",
       "      <td>1.000000</td>\n",
       "      <td>0.003513</td>\n",
       "      <td>0.000545</td>\n",
       "      <td>0.003243</td>\n",
       "    </tr>\n",
       "    <tr>\n",
       "      <th>age</th>\n",
       "      <td>0.003333</td>\n",
       "      <td>0.002750</td>\n",
       "      <td>0.003513</td>\n",
       "      <td>1.000000</td>\n",
       "      <td>0.001579</td>\n",
       "      <td>0.005680</td>\n",
       "    </tr>\n",
       "    <tr>\n",
       "      <th>ip_address</th>\n",
       "      <td>0.001391</td>\n",
       "      <td>-0.002924</td>\n",
       "      <td>0.000545</td>\n",
       "      <td>0.001579</td>\n",
       "      <td>1.000000</td>\n",
       "      <td>-0.005206</td>\n",
       "    </tr>\n",
       "    <tr>\n",
       "      <th>class</th>\n",
       "      <td>0.001495</td>\n",
       "      <td>-0.000022</td>\n",
       "      <td>0.003243</td>\n",
       "      <td>0.005680</td>\n",
       "      <td>-0.005206</td>\n",
       "      <td>1.000000</td>\n",
       "    </tr>\n",
       "  </tbody>\n",
       "</table>\n",
       "</div>"
      ],
      "text/plain": [
       "                Unnamed: 0   user_id  purchase_value       age  ip_address  \\\n",
       "Unnamed: 0        1.000000 -0.003912        0.004454  0.003333    0.001391   \n",
       "user_id          -0.003912  1.000000        0.002912  0.002750   -0.002924   \n",
       "purchase_value    0.004454  0.002912        1.000000  0.003513    0.000545   \n",
       "age               0.003333  0.002750        0.003513  1.000000    0.001579   \n",
       "ip_address        0.001391 -0.002924        0.000545  0.001579    1.000000   \n",
       "class             0.001495 -0.000022        0.003243  0.005680   -0.005206   \n",
       "\n",
       "                   class  \n",
       "Unnamed: 0      0.001495  \n",
       "user_id        -0.000022  \n",
       "purchase_value  0.003243  \n",
       "age             0.005680  \n",
       "ip_address     -0.005206  \n",
       "class           1.000000  "
      ]
     },
     "execution_count": 12,
     "metadata": {},
     "output_type": "execute_result"
    }
   ],
   "source": [
    "corr"
   ]
  },
  {
   "cell_type": "markdown",
   "metadata": {},
   "source": [
    "### Join user and ip table\n",
    "\n",
    "Before joining the two tables, I did the following adjustments:\n",
    "\n",
    "   - According to the audited results, I have fixed the `timestamp` data type issues and the decimal ip address issues in `fruad` table. \n",
    "   - In order to accelerate the matching join process, the bisect search has been applied to do the search in the matching process (I tried to combine the ip range for each country, but it seems not save much time. So I didn't include it at here)\n",
    "   - dropped 1 unmatched country record ()"
   ]
  },
  {
   "cell_type": "markdown",
   "metadata": {},
   "source": [
    "#### Fix datatype and data issues"
   ]
  },
  {
   "cell_type": "code",
   "execution_count": 13,
   "metadata": {},
   "outputs": [],
   "source": [
    "# # drop index and reset new index \n",
    "df_user = df_user[df_user.columns[1:]].copy().set_index('user_id')\n",
    "\n",
    "# fix timestamp data issues\n",
    "df_user['signup_time'] = df_user['signup_time'].apply(lambda x: datetime.datetime.strptime(x,'%m/%d/%Y %H:%M'))\n",
    "df_user['purchase_time'] = df_user['purchase_time'].apply(lambda x: datetime.datetime.strptime(x,'%m/%d/%Y %H:%M'))\n",
    "\n",
    "# fix decimal ip address issues\n",
    "\n",
    "def remove_exponent(num):\n",
    "    if num == int(num):\n",
    "        return int(num)\n",
    "    else:\n",
    "        return int(str(num).rstrip('0').rstrip('.').replace(r'.', ''))\n",
    "    \n",
    "df_user['ip_address'] = df_user.apply(lambda row: remove_exponent(row['ip_address']), axis=1)"
   ]
  },
  {
   "cell_type": "code",
   "execution_count": 14,
   "metadata": {},
   "outputs": [
    {
     "data": {
      "text/html": [
       "<div>\n",
       "<style scoped>\n",
       "    .dataframe tbody tr th:only-of-type {\n",
       "        vertical-align: middle;\n",
       "    }\n",
       "\n",
       "    .dataframe tbody tr th {\n",
       "        vertical-align: top;\n",
       "    }\n",
       "\n",
       "    .dataframe thead th {\n",
       "        text-align: right;\n",
       "    }\n",
       "</style>\n",
       "<table border=\"1\" class=\"dataframe\">\n",
       "  <thead>\n",
       "    <tr style=\"text-align: right;\">\n",
       "      <th></th>\n",
       "      <th>signup_time</th>\n",
       "      <th>purchase_time</th>\n",
       "      <th>purchase_value</th>\n",
       "      <th>device_id</th>\n",
       "      <th>source</th>\n",
       "      <th>browser</th>\n",
       "      <th>sex</th>\n",
       "      <th>age</th>\n",
       "      <th>ip_address</th>\n",
       "      <th>class</th>\n",
       "    </tr>\n",
       "    <tr>\n",
       "      <th>user_id</th>\n",
       "      <th></th>\n",
       "      <th></th>\n",
       "      <th></th>\n",
       "      <th></th>\n",
       "      <th></th>\n",
       "      <th></th>\n",
       "      <th></th>\n",
       "      <th></th>\n",
       "      <th></th>\n",
       "      <th></th>\n",
       "    </tr>\n",
       "  </thead>\n",
       "  <tbody>\n",
       "    <tr>\n",
       "      <th>285108</th>\n",
       "      <td>2015-07-15 04:36:00</td>\n",
       "      <td>2015-09-10 14:17:00</td>\n",
       "      <td>31</td>\n",
       "      <td>HZAKVUFTDOSFD</td>\n",
       "      <td>Direct</td>\n",
       "      <td>Chrome</td>\n",
       "      <td>M</td>\n",
       "      <td>49</td>\n",
       "      <td>2818400139</td>\n",
       "      <td>0</td>\n",
       "    </tr>\n",
       "    <tr>\n",
       "      <th>131009</th>\n",
       "      <td>2015-01-24 12:29:00</td>\n",
       "      <td>2015-04-13 04:53:00</td>\n",
       "      <td>31</td>\n",
       "      <td>XGQAJSOUJIZCC</td>\n",
       "      <td>SEO</td>\n",
       "      <td>IE</td>\n",
       "      <td>F</td>\n",
       "      <td>21</td>\n",
       "      <td>3251268287</td>\n",
       "      <td>0</td>\n",
       "    </tr>\n",
       "    <tr>\n",
       "      <th>328855</th>\n",
       "      <td>2015-03-11 00:54:00</td>\n",
       "      <td>2015-04-05 12:23:00</td>\n",
       "      <td>16</td>\n",
       "      <td>VCCTAYDCWKZIY</td>\n",
       "      <td>Direct</td>\n",
       "      <td>IE</td>\n",
       "      <td>M</td>\n",
       "      <td>26</td>\n",
       "      <td>2727760440</td>\n",
       "      <td>0</td>\n",
       "    </tr>\n",
       "    <tr>\n",
       "      <th>229053</th>\n",
       "      <td>2015-01-07 13:19:00</td>\n",
       "      <td>2015-01-09 10:12:00</td>\n",
       "      <td>29</td>\n",
       "      <td>MFFIHYNXCJLEY</td>\n",
       "      <td>SEO</td>\n",
       "      <td>Chrome</td>\n",
       "      <td>M</td>\n",
       "      <td>34</td>\n",
       "      <td>2083419526</td>\n",
       "      <td>0</td>\n",
       "    </tr>\n",
       "  </tbody>\n",
       "</table>\n",
       "</div>"
      ],
      "text/plain": [
       "                signup_time       purchase_time  purchase_value  \\\n",
       "user_id                                                           \n",
       "285108  2015-07-15 04:36:00 2015-09-10 14:17:00              31   \n",
       "131009  2015-01-24 12:29:00 2015-04-13 04:53:00              31   \n",
       "328855  2015-03-11 00:54:00 2015-04-05 12:23:00              16   \n",
       "229053  2015-01-07 13:19:00 2015-01-09 10:12:00              29   \n",
       "\n",
       "             device_id  source browser sex  age  ip_address  class  \n",
       "user_id                                                             \n",
       "285108   HZAKVUFTDOSFD  Direct  Chrome   M   49  2818400139      0  \n",
       "131009   XGQAJSOUJIZCC     SEO      IE   F   21  3251268287      0  \n",
       "328855   VCCTAYDCWKZIY  Direct      IE   M   26  2727760440      0  \n",
       "229053   MFFIHYNXCJLEY     SEO  Chrome   M   34  2083419526      0  "
      ]
     },
     "execution_count": 14,
     "metadata": {},
     "output_type": "execute_result"
    }
   ],
   "source": [
    "df_user.head(4)"
   ]
  },
  {
   "cell_type": "markdown",
   "metadata": {},
   "source": [
    "#### Bisect search matching join "
   ]
  },
  {
   "cell_type": "code",
   "execution_count": 15,
   "metadata": {},
   "outputs": [],
   "source": [
    "# sort ip address with lower_bound_ip_address\n",
    "df_ip_sorted = df_ip.sort_values(by='lower_bound_ip_address', ascending=True)\n",
    "\n",
    "# bisect search \n",
    "n = df_ip_sorted.shape[0]\n",
    "def lookup_country(ip):\n",
    "  location = bisect.bisect(df_ip_sorted.lower_bound_ip_address, ip) - 1\n",
    "  if location < 0 or location >= n:\n",
    "    return 'Not Found'\n",
    "  return df_ip_sorted.iloc[location]['country']"
   ]
  },
  {
   "cell_type": "code",
   "execution_count": 16,
   "metadata": {},
   "outputs": [
    {
     "name": "stdout",
     "output_type": "stream",
     "text": [
      "CPU times: user 33.4 s, sys: 190 ms, total: 33.6 s\n",
      "Wall time: 34.8 s\n"
     ]
    }
   ],
   "source": [
    "%time df_user['country'] = df_user.apply(lambda row: lookup_country(row['ip_address']), axis=1)"
   ]
  },
  {
   "cell_type": "code",
   "execution_count": 17,
   "metadata": {},
   "outputs": [
    {
     "data": {
      "text/html": [
       "<div>\n",
       "<style scoped>\n",
       "    .dataframe tbody tr th:only-of-type {\n",
       "        vertical-align: middle;\n",
       "    }\n",
       "\n",
       "    .dataframe tbody tr th {\n",
       "        vertical-align: top;\n",
       "    }\n",
       "\n",
       "    .dataframe thead th {\n",
       "        text-align: right;\n",
       "    }\n",
       "</style>\n",
       "<table border=\"1\" class=\"dataframe\">\n",
       "  <thead>\n",
       "    <tr style=\"text-align: right;\">\n",
       "      <th></th>\n",
       "      <th>signup_time</th>\n",
       "      <th>purchase_time</th>\n",
       "      <th>purchase_value</th>\n",
       "      <th>device_id</th>\n",
       "      <th>source</th>\n",
       "      <th>browser</th>\n",
       "      <th>sex</th>\n",
       "      <th>age</th>\n",
       "      <th>ip_address</th>\n",
       "      <th>class</th>\n",
       "      <th>country</th>\n",
       "    </tr>\n",
       "    <tr>\n",
       "      <th>user_id</th>\n",
       "      <th></th>\n",
       "      <th></th>\n",
       "      <th></th>\n",
       "      <th></th>\n",
       "      <th></th>\n",
       "      <th></th>\n",
       "      <th></th>\n",
       "      <th></th>\n",
       "      <th></th>\n",
       "      <th></th>\n",
       "      <th></th>\n",
       "    </tr>\n",
       "  </thead>\n",
       "  <tbody>\n",
       "    <tr>\n",
       "      <th>285108</th>\n",
       "      <td>2015-07-15 04:36:00</td>\n",
       "      <td>2015-09-10 14:17:00</td>\n",
       "      <td>31</td>\n",
       "      <td>HZAKVUFTDOSFD</td>\n",
       "      <td>Direct</td>\n",
       "      <td>Chrome</td>\n",
       "      <td>M</td>\n",
       "      <td>49</td>\n",
       "      <td>2818400139</td>\n",
       "      <td>0</td>\n",
       "      <td>United States</td>\n",
       "    </tr>\n",
       "    <tr>\n",
       "      <th>131009</th>\n",
       "      <td>2015-01-24 12:29:00</td>\n",
       "      <td>2015-04-13 04:53:00</td>\n",
       "      <td>31</td>\n",
       "      <td>XGQAJSOUJIZCC</td>\n",
       "      <td>SEO</td>\n",
       "      <td>IE</td>\n",
       "      <td>F</td>\n",
       "      <td>21</td>\n",
       "      <td>3251268287</td>\n",
       "      <td>0</td>\n",
       "      <td>United Kingdom</td>\n",
       "    </tr>\n",
       "    <tr>\n",
       "      <th>328855</th>\n",
       "      <td>2015-03-11 00:54:00</td>\n",
       "      <td>2015-04-05 12:23:00</td>\n",
       "      <td>16</td>\n",
       "      <td>VCCTAYDCWKZIY</td>\n",
       "      <td>Direct</td>\n",
       "      <td>IE</td>\n",
       "      <td>M</td>\n",
       "      <td>26</td>\n",
       "      <td>2727760440</td>\n",
       "      <td>0</td>\n",
       "      <td>United States</td>\n",
       "    </tr>\n",
       "    <tr>\n",
       "      <th>229053</th>\n",
       "      <td>2015-01-07 13:19:00</td>\n",
       "      <td>2015-01-09 10:12:00</td>\n",
       "      <td>29</td>\n",
       "      <td>MFFIHYNXCJLEY</td>\n",
       "      <td>SEO</td>\n",
       "      <td>Chrome</td>\n",
       "      <td>M</td>\n",
       "      <td>34</td>\n",
       "      <td>2083419526</td>\n",
       "      <td>0</td>\n",
       "      <td>Korea Republic of</td>\n",
       "    </tr>\n",
       "    <tr>\n",
       "      <th>108439</th>\n",
       "      <td>2015-02-08 21:11:00</td>\n",
       "      <td>2015-04-09 14:26:00</td>\n",
       "      <td>26</td>\n",
       "      <td>WMSXWGVPNIFBM</td>\n",
       "      <td>Ads</td>\n",
       "      <td>FireFox</td>\n",
       "      <td>M</td>\n",
       "      <td>33</td>\n",
       "      <td>3207912664</td>\n",
       "      <td>0</td>\n",
       "      <td>Brazil</td>\n",
       "    </tr>\n",
       "  </tbody>\n",
       "</table>\n",
       "</div>"
      ],
      "text/plain": [
       "                signup_time       purchase_time  purchase_value  \\\n",
       "user_id                                                           \n",
       "285108  2015-07-15 04:36:00 2015-09-10 14:17:00              31   \n",
       "131009  2015-01-24 12:29:00 2015-04-13 04:53:00              31   \n",
       "328855  2015-03-11 00:54:00 2015-04-05 12:23:00              16   \n",
       "229053  2015-01-07 13:19:00 2015-01-09 10:12:00              29   \n",
       "108439  2015-02-08 21:11:00 2015-04-09 14:26:00              26   \n",
       "\n",
       "             device_id  source  browser sex  age  ip_address  class  \\\n",
       "user_id                                                               \n",
       "285108   HZAKVUFTDOSFD  Direct   Chrome   M   49  2818400139      0   \n",
       "131009   XGQAJSOUJIZCC     SEO       IE   F   21  3251268287      0   \n",
       "328855   VCCTAYDCWKZIY  Direct       IE   M   26  2727760440      0   \n",
       "229053   MFFIHYNXCJLEY     SEO   Chrome   M   34  2083419526      0   \n",
       "108439   WMSXWGVPNIFBM     Ads  FireFox   M   33  3207912664      0   \n",
       "\n",
       "                   country  \n",
       "user_id                     \n",
       "285108       United States  \n",
       "131009      United Kingdom  \n",
       "328855       United States  \n",
       "229053   Korea Republic of  \n",
       "108439              Brazil  "
      ]
     },
     "execution_count": 17,
     "metadata": {},
     "output_type": "execute_result"
    }
   ],
   "source": [
    "df_user.head(5)"
   ]
  },
  {
   "cell_type": "code",
   "execution_count": 18,
   "metadata": {},
   "outputs": [
    {
     "data": {
      "text/plain": [
       "signup_time       datetime64[ns]\n",
       "purchase_time     datetime64[ns]\n",
       "purchase_value             int64\n",
       "device_id                 object\n",
       "source                    object\n",
       "browser                   object\n",
       "sex                       object\n",
       "age                        int64\n",
       "ip_address                 int64\n",
       "class                      int64\n",
       "country                   object\n",
       "dtype: object"
      ]
     },
     "execution_count": 18,
     "metadata": {},
     "output_type": "execute_result"
    }
   ],
   "source": [
    "df_user.dtypes"
   ]
  },
  {
   "cell_type": "markdown",
   "metadata": {},
   "source": [
    "### Data Cleaning\n",
    "\n",
    " - For categorical variables, the missing values was filled with mode.\n",
    " - For quantitative variables, the missing values with median due to the long tail distribution in `violinplot`."
   ]
  },
  {
   "cell_type": "markdown",
   "metadata": {},
   "source": [
    "#### drop unmatched records and the `ip_address` column, since we will use `country` column"
   ]
  },
  {
   "cell_type": "code",
   "execution_count": 19,
   "metadata": {},
   "outputs": [],
   "source": [
    "df = df_user[df_user['country']!='Not Found'].drop('ip_address', axis =1)"
   ]
  },
  {
   "cell_type": "code",
   "execution_count": 20,
   "metadata": {},
   "outputs": [],
   "source": [
    "(num_fields, cat_fields, bool_fields, data_types, type_class) = PyAudit.dtypes_class(df)"
   ]
  },
  {
   "cell_type": "markdown",
   "metadata": {},
   "source": [
    "#### Impute missing values (Although we do not have missing value, but I will keep this part at here, just in case the new data has missing values)\n",
    " - For categorical variables, I fill the missing values with mode.\n",
    " - For quantitative variables, I visualize the distribution with `violinplot` and see if the variable has too many outliers. If yes, we fill missing values with median. Otherwise, we use the mean."
   ]
  },
  {
   "cell_type": "markdown",
   "metadata": {},
   "source": [
    "##### Barplots on categorical variables"
   ]
  },
  {
   "cell_type": "code",
   "execution_count": 21,
   "metadata": {},
   "outputs": [
    {
     "data": {
      "text/plain": [
       "['device_id', 'source', 'browser', 'sex', 'country']"
      ]
     },
     "execution_count": 21,
     "metadata": {},
     "output_type": "execute_result"
    }
   ],
   "source": [
    "cat_fields"
   ]
  },
  {
   "cell_type": "code",
   "execution_count": 22,
   "metadata": {},
   "outputs": [
    {
     "data": {
      "image/png": "[encoded data removed]",
      "text/plain": [
       "<Figure size 1080x720 with 1 Axes>"
      ]
     },
     "metadata": {},
     "output_type": "display_data"
    },
    {
     "data": {
      "image/png": "[encoded data removed]",
      "text/plain": [
       "<Figure size 1080x720 with 1 Axes>"
      ]
     },
     "metadata": {},
     "output_type": "display_data"
    },
    {
     "data": {
      "image/png": "[encoded data removed]",
      "text/plain": [
       "<Figure size 1080x720 with 1 Axes>"
      ]
     },
     "metadata": {},
     "output_type": "display_data"
    },
    {
     "data": {
      "image/png": "[encoded data removed]",
      "text/plain": [
       "<Figure size 1080x720 with 1 Axes>"
      ]
     },
     "metadata": {},
     "output_type": "display_data"
    },
    {
     "data": {
      "image/png": "[encoded data removed]",
      "text/plain": [
       "<Figure size 1080x720 with 1 Axes>"
      ]
     },
     "metadata": {},
     "output_type": "display_data"
    }
   ],
   "source": [
    "for col in cat_fields:\n",
    "    fig, axs = plt.subplots(1, 1, figsize=(15, 10))\n",
    "    counts = df[col].value_counts()\n",
    "    counts = counts.reset_index().head(20)\n",
    "    counts.columns = [col,'count']\n",
    "    ax = sns.barplot(x=col, y=\"count\", data=counts)\n",
    "    plt.xticks(rotation=90)"
   ]
  },
  {
   "cell_type": "markdown",
   "metadata": {},
   "source": [
    "##### Violinplots on quantitative variables"
   ]
  },
  {
   "cell_type": "code",
   "execution_count": 23,
   "metadata": {},
   "outputs": [
    {
     "data": {
      "image/png": "[encoded data removed]",
      "text/plain": [
       "<Figure size 720x576 with 1 Axes>"
      ]
     },
     "metadata": {},
     "output_type": "display_data"
    },
    {
     "data": {
      "image/png": "[encoded data removed]",
      "text/plain": [
       "<Figure size 720x576 with 1 Axes>"
      ]
     },
     "metadata": {},
     "output_type": "display_data"
    }
   ],
   "source": [
    "num_fields = [x for x in num_fields if x!='class']\n",
    "\n",
    "for col in num_fields:\n",
    "    fig, axs = plt.subplots(1, 1, figsize=(10,8)) \n",
    "    ax = sns.violinplot(x=df[col])"
   ]
  },
  {
   "cell_type": "markdown",
   "metadata": {},
   "source": [
    "##### Filling missing value"
   ]
  },
  {
   "cell_type": "code",
   "execution_count": 24,
   "metadata": {},
   "outputs": [],
   "source": [
    "# fill missing values in quantitative variables with median\n",
    "for x in num_fields:\n",
    "    df[x].fillna(df[x].median(), inplace=True)\n",
    "    \n",
    "# fill missing values in categorical variables with mode\n",
    "for x in cat_fields:\n",
    "    df[x].fillna(df[x].mode()[0], inplace=True)"
   ]
  },
  {
   "cell_type": "markdown",
   "metadata": {},
   "source": [
    "##### Recheck missing value"
   ]
  },
  {
   "cell_type": "code",
   "execution_count": 25,
   "metadata": {},
   "outputs": [
    {
     "data": {
      "text/html": [
       "<div>\n",
       "<style scoped>\n",
       "    .dataframe tbody tr th:only-of-type {\n",
       "        vertical-align: middle;\n",
       "    }\n",
       "\n",
       "    .dataframe tbody tr th {\n",
       "        vertical-align: top;\n",
       "    }\n",
       "\n",
       "    .dataframe thead th {\n",
       "        text-align: right;\n",
       "    }\n",
       "</style>\n",
       "<table border=\"1\" class=\"dataframe\">\n",
       "  <thead>\n",
       "    <tr style=\"text-align: right;\">\n",
       "      <th></th>\n",
       "      <th>feature</th>\n",
       "      <th>missing_rate</th>\n",
       "    </tr>\n",
       "  </thead>\n",
       "  <tbody>\n",
       "    <tr>\n",
       "      <th>0</th>\n",
       "      <td>signup_time</td>\n",
       "      <td>0.0</td>\n",
       "    </tr>\n",
       "    <tr>\n",
       "      <th>1</th>\n",
       "      <td>purchase_time</td>\n",
       "      <td>0.0</td>\n",
       "    </tr>\n",
       "    <tr>\n",
       "      <th>2</th>\n",
       "      <td>purchase_value</td>\n",
       "      <td>0.0</td>\n",
       "    </tr>\n",
       "    <tr>\n",
       "      <th>3</th>\n",
       "      <td>device_id</td>\n",
       "      <td>0.0</td>\n",
       "    </tr>\n",
       "    <tr>\n",
       "      <th>4</th>\n",
       "      <td>source</td>\n",
       "      <td>0.0</td>\n",
       "    </tr>\n",
       "    <tr>\n",
       "      <th>5</th>\n",
       "      <td>browser</td>\n",
       "      <td>0.0</td>\n",
       "    </tr>\n",
       "    <tr>\n",
       "      <th>6</th>\n",
       "      <td>sex</td>\n",
       "      <td>0.0</td>\n",
       "    </tr>\n",
       "    <tr>\n",
       "      <th>7</th>\n",
       "      <td>age</td>\n",
       "      <td>0.0</td>\n",
       "    </tr>\n",
       "    <tr>\n",
       "      <th>8</th>\n",
       "      <td>class</td>\n",
       "      <td>0.0</td>\n",
       "    </tr>\n",
       "    <tr>\n",
       "      <th>9</th>\n",
       "      <td>country</td>\n",
       "      <td>0.0</td>\n",
       "    </tr>\n",
       "  </tbody>\n",
       "</table>\n",
       "</div>"
      ],
      "text/plain": [
       "          feature  missing_rate\n",
       "0     signup_time           0.0\n",
       "1   purchase_time           0.0\n",
       "2  purchase_value           0.0\n",
       "3       device_id           0.0\n",
       "4          source           0.0\n",
       "5         browser           0.0\n",
       "6             sex           0.0\n",
       "7             age           0.0\n",
       "8           class           0.0\n",
       "9         country           0.0"
      ]
     },
     "execution_count": 25,
     "metadata": {},
     "output_type": "execute_result"
    }
   ],
   "source": [
    "from PyAudit import missing_rate\n",
    "missing_rate(df)"
   ]
  },
  {
   "cell_type": "markdown",
   "metadata": {},
   "source": [
    "### Data Exploration \n",
    "\n",
    "Some of parts in this step have been implement in the data audit step, so I will directly use the results from audited results:\n",
    " - Highly imbalanced data, percentage of not fraudulent is 90.61% and the fraudulent is only 9.39%\n",
    " - The average and median `age` of the fraudulent and not fraudulent is similar to each other; The same as the `purchase_value` \n",
    " - The `age`, `purchase_value` , `source`, `brower`, `sex` seem not have much impact to the fraudulent rate \n",
    " - The numerical data has low correction relationship \n",
    " - The fraudulent rate have a long tail distribution and have outliers "
   ]
  },
  {
   "cell_type": "markdown",
   "metadata": {},
   "source": [
    "#### unbalance check "
   ]
  },
  {
   "cell_type": "code",
   "execution_count": 26,
   "metadata": {},
   "outputs": [
    {
     "data": {
      "text/html": [
       "<div>\n",
       "<style scoped>\n",
       "    .dataframe tbody tr th:only-of-type {\n",
       "        vertical-align: middle;\n",
       "    }\n",
       "\n",
       "    .dataframe tbody tr th {\n",
       "        vertical-align: top;\n",
       "    }\n",
       "\n",
       "    .dataframe thead th {\n",
       "        text-align: right;\n",
       "    }\n",
       "</style>\n",
       "<table border=\"1\" class=\"dataframe\">\n",
       "  <thead>\n",
       "    <tr style=\"text-align: right;\">\n",
       "      <th></th>\n",
       "      <th>class</th>\n",
       "    </tr>\n",
       "  </thead>\n",
       "  <tbody>\n",
       "    <tr>\n",
       "      <th>0</th>\n",
       "      <td>90.61</td>\n",
       "    </tr>\n",
       "    <tr>\n",
       "      <th>1</th>\n",
       "      <td>9.39</td>\n",
       "    </tr>\n",
       "  </tbody>\n",
       "</table>\n",
       "</div>"
      ],
      "text/plain": [
       "   class\n",
       "0  90.61\n",
       "1   9.39"
      ]
     },
     "execution_count": 26,
     "metadata": {},
     "output_type": "execute_result"
    }
   ],
   "source": [
    "pd.DataFrame(round(df['class'].value_counts(normalize=True)*100,2)) #/sum(df['class'].value_counts())"
   ]
  },
  {
   "cell_type": "markdown",
   "metadata": {},
   "source": [
    "#### numerical data and categrical data .vs. class"
   ]
  },
  {
   "cell_type": "code",
   "execution_count": 27,
   "metadata": {},
   "outputs": [
    {
     "data": {
      "text/html": [
       "<div>\n",
       "<style scoped>\n",
       "    .dataframe tbody tr th:only-of-type {\n",
       "        vertical-align: middle;\n",
       "    }\n",
       "\n",
       "    .dataframe tbody tr th {\n",
       "        vertical-align: top;\n",
       "    }\n",
       "\n",
       "    .dataframe thead th {\n",
       "        text-align: right;\n",
       "    }\n",
       "</style>\n",
       "<table border=\"1\" class=\"dataframe\">\n",
       "  <thead>\n",
       "    <tr style=\"text-align: right;\">\n",
       "      <th></th>\n",
       "      <th>purchase_value</th>\n",
       "      <th>age</th>\n",
       "    </tr>\n",
       "    <tr>\n",
       "      <th>class</th>\n",
       "      <th></th>\n",
       "      <th></th>\n",
       "    </tr>\n",
       "  </thead>\n",
       "  <tbody>\n",
       "    <tr>\n",
       "      <th>0</th>\n",
       "      <td>36.862159</td>\n",
       "      <td>33.109598</td>\n",
       "    </tr>\n",
       "    <tr>\n",
       "      <th>1</th>\n",
       "      <td>37.066134</td>\n",
       "      <td>33.277319</td>\n",
       "    </tr>\n",
       "  </tbody>\n",
       "</table>\n",
       "</div>"
      ],
      "text/plain": [
       "       purchase_value        age\n",
       "class                           \n",
       "0           36.862159  33.109598\n",
       "1           37.066134  33.277319"
      ]
     },
     "execution_count": 27,
     "metadata": {},
     "output_type": "execute_result"
    }
   ],
   "source": [
    "df[num_fields+['class']].groupby('class').mean()"
   ]
  },
  {
   "cell_type": "code",
   "execution_count": 28,
   "metadata": {},
   "outputs": [
    {
     "data": {
      "text/html": [
       "<div>\n",
       "<style scoped>\n",
       "    .dataframe tbody tr th:only-of-type {\n",
       "        vertical-align: middle;\n",
       "    }\n",
       "\n",
       "    .dataframe tbody tr th {\n",
       "        vertical-align: top;\n",
       "    }\n",
       "\n",
       "    .dataframe thead th {\n",
       "        text-align: right;\n",
       "    }\n",
       "</style>\n",
       "<table border=\"1\" class=\"dataframe\">\n",
       "  <thead>\n",
       "    <tr style=\"text-align: right;\">\n",
       "      <th></th>\n",
       "      <th>purchase_value</th>\n",
       "      <th>age</th>\n",
       "    </tr>\n",
       "    <tr>\n",
       "      <th>class</th>\n",
       "      <th></th>\n",
       "      <th></th>\n",
       "    </tr>\n",
       "  </thead>\n",
       "  <tbody>\n",
       "    <tr>\n",
       "      <th>0</th>\n",
       "      <td>34</td>\n",
       "      <td>32</td>\n",
       "    </tr>\n",
       "    <tr>\n",
       "      <th>1</th>\n",
       "      <td>35</td>\n",
       "      <td>33</td>\n",
       "    </tr>\n",
       "  </tbody>\n",
       "</table>\n",
       "</div>"
      ],
      "text/plain": [
       "       purchase_value  age\n",
       "class                     \n",
       "0                  34   32\n",
       "1                  35   33"
      ]
     },
     "execution_count": 28,
     "metadata": {},
     "output_type": "execute_result"
    }
   ],
   "source": [
    "df[num_fields+['class']].groupby('class').median()"
   ]
  },
  {
   "cell_type": "markdown",
   "metadata": {},
   "source": [
    "#### Visualizations"
   ]
  },
  {
   "cell_type": "code",
   "execution_count": 29,
   "metadata": {},
   "outputs": [
    {
     "data": {
      "image/png": "[encoded data removed]",
      "text/plain": [
       "<Figure size 432x288 with 1 Axes>"
      ]
     },
     "metadata": {
      "needs_background": "light"
     },
     "output_type": "display_data"
    },
    {
     "data": {
      "image/png": "[encoded data removed]",
      "text/plain": [
       "<Figure size 432x288 with 1 Axes>"
      ]
     },
     "metadata": {
      "needs_background": "light"
     },
     "output_type": "display_data"
    },
    {
     "data": {
      "image/png": "[encoded data removed]",
      "text/plain": [
       "<Figure size 432x288 with 1 Axes>"
      ]
     },
     "metadata": {
      "needs_background": "light"
     },
     "output_type": "display_data"
    },
    {
     "data": {
      "image/png": "[encoded data removed]",
      "text/plain": [
       "<Figure size 432x288 with 1 Axes>"
      ]
     },
     "metadata": {
      "needs_background": "light"
     },
     "output_type": "display_data"
    }
   ],
   "source": [
    "def cross_table_plot(cat, df):\n",
    "    # built coross table \n",
    "    corss_table = pd.crosstab(df[cat], df['class'])\\\n",
    "                    .reset_index().rename(columns={0: 'not_fraudulent', 1: 'fraudulent'})\\\n",
    "                    .set_index(cat)\n",
    "    # normalize by row\n",
    "    cross_table2 = corss_table.div(corss_table.sum(axis=1), axis=0).reset_index()\\\n",
    "                              .sort_values('fraudulent', ascending = False)\n",
    "    ax = cross_table2.plot(kind='bar')\n",
    "    ax.set_xticklabels(cross_table2[cat], rotation=90)\n",
    "    plt.title(f'fraudulent Frequency for {cat}')\n",
    "    plt.xlabel(cat)\n",
    "    plt.ylabel('Frequency')\n",
    "\n",
    "%matplotlib inline\n",
    "for cat in cat_fields[1:]:\n",
    "    cross_table_plot(cat, df)"
   ]
  },
  {
   "cell_type": "code",
   "execution_count": 30,
   "metadata": {},
   "outputs": [],
   "source": [
    "cross_table = pd.crosstab(df[cat], df['class'])\\\n",
    "                    .reset_index().rename(columns={0: 'not_fraudulent', 1: 'fraudulent'})\\\n",
    "                    .set_index(cat)\n",
    "# normalize by row\n",
    "\n",
    "cross_table2 = cross_table.div(cross_table.sum(axis=1), axis=0).reset_index()\\\n",
    "                          .sort_values('fraudulent', ascending = False)"
   ]
  },
  {
   "cell_type": "code",
   "execution_count": 31,
   "metadata": {},
   "outputs": [
    {
     "data": {
      "image/png": "[encoded data removed]",
      "text/plain": [
       "<Figure size 432x288 with 1 Axes>"
      ]
     },
     "metadata": {
      "needs_background": "light"
     },
     "output_type": "display_data"
    }
   ],
   "source": [
    "sns.distplot(cross_table2['fraudulent'])\n",
    "ax = plt.gca()\n",
    "ax.set_xlabel('fraudulent')\n",
    "ax.set_ylabel('Density')\n",
    "plt.show()"
   ]
  },
  {
   "cell_type": "code",
   "execution_count": 32,
   "metadata": {},
   "outputs": [
    {
     "data": {
      "text/plain": [
       "0.25    0.000000\n",
       "0.50    0.054054\n",
       "0.75    0.103626\n",
       "Name: fraudulent, dtype: float64"
      ]
     },
     "execution_count": 32,
     "metadata": {},
     "output_type": "execute_result"
    }
   ],
   "source": [
    "# percentiles\n",
    "cross_table2['fraudulent'].quantile([0.25,0.5,0.75])"
   ]
  },
  {
   "cell_type": "code",
   "execution_count": 33,
   "metadata": {},
   "outputs": [
    {
     "data": {
      "text/plain": [
       "0.0    0.000000\n",
       "0.1    0.000000\n",
       "0.2    0.000000\n",
       "0.3    0.000000\n",
       "0.4    0.004615\n",
       "0.5    0.054054\n",
       "0.6    0.073778\n",
       "0.7    0.090661\n",
       "0.8    0.115889\n",
       "0.9    0.200000\n",
       "1.0    1.000000\n",
       "Name: fraudulent, dtype: float64"
      ]
     },
     "execution_count": 33,
     "metadata": {},
     "output_type": "execute_result"
    }
   ],
   "source": [
    "# deciles\n",
    "cross_table2['fraudulent'].quantile(np.array(range(0, 110, 10))/100)"
   ]
  },
  {
   "cell_type": "markdown",
   "metadata": {},
   "source": [
    "#### Correlation "
   ]
  },
  {
   "cell_type": "code",
   "execution_count": 34,
   "metadata": {},
   "outputs": [
    {
     "data": {
      "text/html": [
       "<div>\n",
       "<style scoped>\n",
       "    .dataframe tbody tr th:only-of-type {\n",
       "        vertical-align: middle;\n",
       "    }\n",
       "\n",
       "    .dataframe tbody tr th {\n",
       "        vertical-align: top;\n",
       "    }\n",
       "\n",
       "    .dataframe thead th {\n",
       "        text-align: right;\n",
       "    }\n",
       "</style>\n",
       "<table border=\"1\" class=\"dataframe\">\n",
       "  <thead>\n",
       "    <tr style=\"text-align: right;\">\n",
       "      <th></th>\n",
       "      <th>purchase_value</th>\n",
       "      <th>age</th>\n",
       "    </tr>\n",
       "  </thead>\n",
       "  <tbody>\n",
       "    <tr>\n",
       "      <th>purchase_value</th>\n",
       "      <td>1.000000</td>\n",
       "      <td>0.003525</td>\n",
       "    </tr>\n",
       "    <tr>\n",
       "      <th>age</th>\n",
       "      <td>0.003525</td>\n",
       "      <td>1.000000</td>\n",
       "    </tr>\n",
       "  </tbody>\n",
       "</table>\n",
       "</div>"
      ],
      "text/plain": [
       "                purchase_value       age\n",
       "purchase_value        1.000000  0.003525\n",
       "age                   0.003525  1.000000"
      ]
     },
     "execution_count": 34,
     "metadata": {},
     "output_type": "execute_result"
    }
   ],
   "source": [
    "df[num_fields].corr()"
   ]
  },
  {
   "cell_type": "markdown",
   "metadata": {},
   "source": [
    "### Feature Engineering   "
   ]
  },
  {
   "cell_type": "markdown",
   "metadata": {},
   "source": [
    "#### Time related "
   ]
  },
  {
   "cell_type": "code",
   "execution_count": 35,
   "metadata": {},
   "outputs": [],
   "source": [
    "# the tenure of the user at purchase_time\n",
    "df['tenure'] = (df['purchase_time'] - df['signup_time'])/ np.timedelta64(1, 's')/60"
   ]
  },
  {
   "cell_type": "code",
   "execution_count": 36,
   "metadata": {},
   "outputs": [],
   "source": [
    "# year of the purchase_time\n",
    "df['year'] = pd.DatetimeIndex(df['purchase_time']).year\n",
    "# month of the purchase_time\n",
    "df['month'] = pd.DatetimeIndex(df['purchase_time']).month\n",
    "# day of the week of the purchase_time\n",
    "df['dayofweek'] = pd.DatetimeIndex(df['purchase_time']).dayofweek\n",
    "# the hour of the purchase_time\n",
    "df['hour'] = pd.DatetimeIndex(df['purchase_time']).hour"
   ]
  },
  {
   "cell_type": "code",
   "execution_count": 37,
   "metadata": {},
   "outputs": [],
   "source": [
    "def f(x):\n",
    "    if (x > 4) and (x <= 8):\n",
    "        return 'Early_Morning'\n",
    "    elif (x > 8) and (x <= 12 ):\n",
    "        return 'Morning'\n",
    "    elif (x > 12) and (x <= 16):\n",
    "        return'Noon'\n",
    "    elif (x > 16) and (x <= 20) :\n",
    "        return 'Eve'\n",
    "    elif (x > 20) and (x <= 24):\n",
    "        return'Night'\n",
    "    elif (x <= 4):\n",
    "        return'Late_Night'"
   ]
  },
  {
   "cell_type": "code",
   "execution_count": 38,
   "metadata": {},
   "outputs": [],
   "source": [
    "# convert the hour to sessions \n",
    "df['session'] = df['hour'].apply(f)"
   ]
  },
  {
   "cell_type": "markdown",
   "metadata": {},
   "source": [
    "#### device_id related \n",
    "\n",
    "Actually, it's hard to use `device_id` to generate new feature. Since the encoded `device_id` can not tell much information. So I just simply aggregated to identify how many times the same device is used to make purchases.  "
   ]
  },
  {
   "cell_type": "code",
   "execution_count": 39,
   "metadata": {},
   "outputs": [],
   "source": [
    "df = df.reset_index()"
   ]
  },
  {
   "cell_type": "code",
   "execution_count": 40,
   "metadata": {},
   "outputs": [],
   "source": [
    "df[\"number_device\"] = df.groupby(\"device_id\")[\"user_id\"].transform(\"count\")"
   ]
  },
  {
   "cell_type": "code",
   "execution_count": 41,
   "metadata": {},
   "outputs": [
    {
     "data": {
      "text/html": [
       "<div>\n",
       "<style scoped>\n",
       "    .dataframe tbody tr th:only-of-type {\n",
       "        vertical-align: middle;\n",
       "    }\n",
       "\n",
       "    .dataframe tbody tr th {\n",
       "        vertical-align: top;\n",
       "    }\n",
       "\n",
       "    .dataframe thead th {\n",
       "        text-align: right;\n",
       "    }\n",
       "</style>\n",
       "<table border=\"1\" class=\"dataframe\">\n",
       "  <thead>\n",
       "    <tr style=\"text-align: right;\">\n",
       "      <th></th>\n",
       "      <th>user_id</th>\n",
       "      <th>signup_time</th>\n",
       "      <th>purchase_time</th>\n",
       "      <th>purchase_value</th>\n",
       "      <th>device_id</th>\n",
       "      <th>source</th>\n",
       "      <th>browser</th>\n",
       "      <th>sex</th>\n",
       "      <th>age</th>\n",
       "      <th>class</th>\n",
       "      <th>country</th>\n",
       "      <th>tenure</th>\n",
       "      <th>year</th>\n",
       "      <th>month</th>\n",
       "      <th>dayofweek</th>\n",
       "      <th>hour</th>\n",
       "      <th>session</th>\n",
       "      <th>number_device</th>\n",
       "    </tr>\n",
       "  </thead>\n",
       "  <tbody>\n",
       "    <tr>\n",
       "      <th>0</th>\n",
       "      <td>285108</td>\n",
       "      <td>2015-07-15 04:36:00</td>\n",
       "      <td>2015-09-10 14:17:00</td>\n",
       "      <td>31</td>\n",
       "      <td>HZAKVUFTDOSFD</td>\n",
       "      <td>Direct</td>\n",
       "      <td>Chrome</td>\n",
       "      <td>M</td>\n",
       "      <td>49</td>\n",
       "      <td>0</td>\n",
       "      <td>United States</td>\n",
       "      <td>82661.0</td>\n",
       "      <td>2015</td>\n",
       "      <td>9</td>\n",
       "      <td>3</td>\n",
       "      <td>14</td>\n",
       "      <td>Noon</td>\n",
       "      <td>2</td>\n",
       "    </tr>\n",
       "    <tr>\n",
       "      <th>1</th>\n",
       "      <td>131009</td>\n",
       "      <td>2015-01-24 12:29:00</td>\n",
       "      <td>2015-04-13 04:53:00</td>\n",
       "      <td>31</td>\n",
       "      <td>XGQAJSOUJIZCC</td>\n",
       "      <td>SEO</td>\n",
       "      <td>IE</td>\n",
       "      <td>F</td>\n",
       "      <td>21</td>\n",
       "      <td>0</td>\n",
       "      <td>United Kingdom</td>\n",
       "      <td>113304.0</td>\n",
       "      <td>2015</td>\n",
       "      <td>4</td>\n",
       "      <td>0</td>\n",
       "      <td>4</td>\n",
       "      <td>Late_Night</td>\n",
       "      <td>1</td>\n",
       "    </tr>\n",
       "    <tr>\n",
       "      <th>2</th>\n",
       "      <td>328855</td>\n",
       "      <td>2015-03-11 00:54:00</td>\n",
       "      <td>2015-04-05 12:23:00</td>\n",
       "      <td>16</td>\n",
       "      <td>VCCTAYDCWKZIY</td>\n",
       "      <td>Direct</td>\n",
       "      <td>IE</td>\n",
       "      <td>M</td>\n",
       "      <td>26</td>\n",
       "      <td>0</td>\n",
       "      <td>United States</td>\n",
       "      <td>36689.0</td>\n",
       "      <td>2015</td>\n",
       "      <td>4</td>\n",
       "      <td>6</td>\n",
       "      <td>12</td>\n",
       "      <td>Morning</td>\n",
       "      <td>1</td>\n",
       "    </tr>\n",
       "    <tr>\n",
       "      <th>3</th>\n",
       "      <td>229053</td>\n",
       "      <td>2015-01-07 13:19:00</td>\n",
       "      <td>2015-01-09 10:12:00</td>\n",
       "      <td>29</td>\n",
       "      <td>MFFIHYNXCJLEY</td>\n",
       "      <td>SEO</td>\n",
       "      <td>Chrome</td>\n",
       "      <td>M</td>\n",
       "      <td>34</td>\n",
       "      <td>0</td>\n",
       "      <td>Korea Republic of</td>\n",
       "      <td>2693.0</td>\n",
       "      <td>2015</td>\n",
       "      <td>1</td>\n",
       "      <td>4</td>\n",
       "      <td>10</td>\n",
       "      <td>Morning</td>\n",
       "      <td>1</td>\n",
       "    </tr>\n",
       "    <tr>\n",
       "      <th>4</th>\n",
       "      <td>108439</td>\n",
       "      <td>2015-02-08 21:11:00</td>\n",
       "      <td>2015-04-09 14:26:00</td>\n",
       "      <td>26</td>\n",
       "      <td>WMSXWGVPNIFBM</td>\n",
       "      <td>Ads</td>\n",
       "      <td>FireFox</td>\n",
       "      <td>M</td>\n",
       "      <td>33</td>\n",
       "      <td>0</td>\n",
       "      <td>Brazil</td>\n",
       "      <td>85995.0</td>\n",
       "      <td>2015</td>\n",
       "      <td>4</td>\n",
       "      <td>3</td>\n",
       "      <td>14</td>\n",
       "      <td>Noon</td>\n",
       "      <td>1</td>\n",
       "    </tr>\n",
       "  </tbody>\n",
       "</table>\n",
       "</div>"
      ],
      "text/plain": [
       "   user_id         signup_time       purchase_time  purchase_value  \\\n",
       "0   285108 2015-07-15 04:36:00 2015-09-10 14:17:00              31   \n",
       "1   131009 2015-01-24 12:29:00 2015-04-13 04:53:00              31   \n",
       "2   328855 2015-03-11 00:54:00 2015-04-05 12:23:00              16   \n",
       "3   229053 2015-01-07 13:19:00 2015-01-09 10:12:00              29   \n",
       "4   108439 2015-02-08 21:11:00 2015-04-09 14:26:00              26   \n",
       "\n",
       "       device_id  source  browser sex  age  class            country  \\\n",
       "0  HZAKVUFTDOSFD  Direct   Chrome   M   49      0      United States   \n",
       "1  XGQAJSOUJIZCC     SEO       IE   F   21      0     United Kingdom   \n",
       "2  VCCTAYDCWKZIY  Direct       IE   M   26      0      United States   \n",
       "3  MFFIHYNXCJLEY     SEO   Chrome   M   34      0  Korea Republic of   \n",
       "4  WMSXWGVPNIFBM     Ads  FireFox   M   33      0             Brazil   \n",
       "\n",
       "     tenure  year  month  dayofweek  hour     session  number_device  \n",
       "0   82661.0  2015      9          3    14        Noon              2  \n",
       "1  113304.0  2015      4          0     4  Late_Night              1  \n",
       "2   36689.0  2015      4          6    12     Morning              1  \n",
       "3    2693.0  2015      1          4    10     Morning              1  \n",
       "4   85995.0  2015      4          3    14        Noon              1  "
      ]
     },
     "execution_count": 41,
     "metadata": {},
     "output_type": "execute_result"
    }
   ],
   "source": [
    "df.head(5)"
   ]
  },
  {
   "cell_type": "markdown",
   "metadata": {},
   "source": [
    "#### country related \n",
    "\n",
    "Country column can be treated in two ways:\n",
    "\n",
    "  - Directly apply  `OneHotEncoder` to get dummy variable \n",
    "  - Create buckets according to the fraudulent rate per country \n",
    "  \n",
    "I decided to use first one, since the second one need time to define the proper buckets. But I will include the code of second one at here.     "
   ]
  },
  {
   "cell_type": "code",
   "execution_count": 42,
   "metadata": {},
   "outputs": [],
   "source": [
    "# df.drop(['fraudulent_x','fraudulent_y'], inplace=True, axis=1)"
   ]
  },
  {
   "cell_type": "code",
   "execution_count": 43,
   "metadata": {},
   "outputs": [],
   "source": [
    "# # left join fraudulent rate to user table \n",
    "# df = df.merge(cross_table2[['country','fraudulent']], on='country', how='left') \n",
    "\n",
    "# # build buckets according to the deciles in Data exploration step \n",
    "# def risk_level(x):\n",
    "#     if (x >= 0) and (x <= 0.0074):\n",
    "#         return 'low'\n",
    "#     elif (x > 0.074) and (x <= 0.09):\n",
    "#         return'medium'\n",
    "#     else:\n",
    "#         return'high'\n",
    "    \n",
    "    \n",
    "# df['risk_level'] = df['fraudulent'].apply(risk_level)\n",
    "\n",
    "# df['risk_level'].value_counts()\n",
    "\n",
    "# pd.crosstab(df['risk_level'], df['class'])"
   ]
  },
  {
   "cell_type": "markdown",
   "metadata": {},
   "source": [
    "#### Selected features "
   ]
  },
  {
   "cell_type": "markdown",
   "metadata": {},
   "source": [
    "##### get dummy variable for categrical data"
   ]
  },
  {
   "cell_type": "code",
   "execution_count": 44,
   "metadata": {},
   "outputs": [
    {
     "data": {
      "text/plain": [
       "Index(['user_id', 'signup_time', 'purchase_time', 'purchase_value',\n",
       "       'device_id', 'source', 'browser', 'sex', 'age', 'class', 'country',\n",
       "       'tenure', 'year', 'month', 'dayofweek', 'hour', 'session',\n",
       "       'number_device'],\n",
       "      dtype='object')"
      ]
     },
     "execution_count": 44,
     "metadata": {},
     "output_type": "execute_result"
    }
   ],
   "source": [
    "df.columns"
   ]
  },
  {
   "cell_type": "code",
   "execution_count": 46,
   "metadata": {},
   "outputs": [],
   "source": [
    "data = df[['purchase_value', 'source', 'browser', 'sex', 'age', 'country', 'tenure', \n",
    "           'year', 'month', 'dayofweek', 'session', 'number_device', 'class']].copy()"
   ]
  },
  {
   "cell_type": "code",
   "execution_count": 47,
   "metadata": {},
   "outputs": [
    {
     "data": {
      "text/html": [
       "<div>\n",
       "<style scoped>\n",
       "    .dataframe tbody tr th:only-of-type {\n",
       "        vertical-align: middle;\n",
       "    }\n",
       "\n",
       "    .dataframe tbody tr th {\n",
       "        vertical-align: top;\n",
       "    }\n",
       "\n",
       "    .dataframe thead th {\n",
       "        text-align: right;\n",
       "    }\n",
       "</style>\n",
       "<table border=\"1\" class=\"dataframe\">\n",
       "  <thead>\n",
       "    <tr style=\"text-align: right;\">\n",
       "      <th></th>\n",
       "      <th>purchase_value</th>\n",
       "      <th>source</th>\n",
       "      <th>browser</th>\n",
       "      <th>sex</th>\n",
       "      <th>age</th>\n",
       "      <th>country</th>\n",
       "      <th>tenure</th>\n",
       "      <th>year</th>\n",
       "      <th>month</th>\n",
       "      <th>dayofweek</th>\n",
       "      <th>session</th>\n",
       "      <th>number_device</th>\n",
       "      <th>class</th>\n",
       "    </tr>\n",
       "  </thead>\n",
       "  <tbody>\n",
       "    <tr>\n",
       "      <th>0</th>\n",
       "      <td>31</td>\n",
       "      <td>Direct</td>\n",
       "      <td>Chrome</td>\n",
       "      <td>M</td>\n",
       "      <td>49</td>\n",
       "      <td>United States</td>\n",
       "      <td>82661.0</td>\n",
       "      <td>2015</td>\n",
       "      <td>9</td>\n",
       "      <td>3</td>\n",
       "      <td>Noon</td>\n",
       "      <td>2</td>\n",
       "      <td>0</td>\n",
       "    </tr>\n",
       "    <tr>\n",
       "      <th>1</th>\n",
       "      <td>31</td>\n",
       "      <td>SEO</td>\n",
       "      <td>IE</td>\n",
       "      <td>F</td>\n",
       "      <td>21</td>\n",
       "      <td>United Kingdom</td>\n",
       "      <td>113304.0</td>\n",
       "      <td>2015</td>\n",
       "      <td>4</td>\n",
       "      <td>0</td>\n",
       "      <td>Late_Night</td>\n",
       "      <td>1</td>\n",
       "      <td>0</td>\n",
       "    </tr>\n",
       "    <tr>\n",
       "      <th>2</th>\n",
       "      <td>16</td>\n",
       "      <td>Direct</td>\n",
       "      <td>IE</td>\n",
       "      <td>M</td>\n",
       "      <td>26</td>\n",
       "      <td>United States</td>\n",
       "      <td>36689.0</td>\n",
       "      <td>2015</td>\n",
       "      <td>4</td>\n",
       "      <td>6</td>\n",
       "      <td>Morning</td>\n",
       "      <td>1</td>\n",
       "      <td>0</td>\n",
       "    </tr>\n",
       "    <tr>\n",
       "      <th>3</th>\n",
       "      <td>29</td>\n",
       "      <td>SEO</td>\n",
       "      <td>Chrome</td>\n",
       "      <td>M</td>\n",
       "      <td>34</td>\n",
       "      <td>Korea Republic of</td>\n",
       "      <td>2693.0</td>\n",
       "      <td>2015</td>\n",
       "      <td>1</td>\n",
       "      <td>4</td>\n",
       "      <td>Morning</td>\n",
       "      <td>1</td>\n",
       "      <td>0</td>\n",
       "    </tr>\n",
       "    <tr>\n",
       "      <th>4</th>\n",
       "      <td>26</td>\n",
       "      <td>Ads</td>\n",
       "      <td>FireFox</td>\n",
       "      <td>M</td>\n",
       "      <td>33</td>\n",
       "      <td>Brazil</td>\n",
       "      <td>85995.0</td>\n",
       "      <td>2015</td>\n",
       "      <td>4</td>\n",
       "      <td>3</td>\n",
       "      <td>Noon</td>\n",
       "      <td>1</td>\n",
       "      <td>0</td>\n",
       "    </tr>\n",
       "  </tbody>\n",
       "</table>\n",
       "</div>"
      ],
      "text/plain": [
       "   purchase_value  source  browser sex  age            country    tenure  \\\n",
       "0              31  Direct   Chrome   M   49      United States   82661.0   \n",
       "1              31     SEO       IE   F   21     United Kingdom  113304.0   \n",
       "2              16  Direct       IE   M   26      United States   36689.0   \n",
       "3              29     SEO   Chrome   M   34  Korea Republic of    2693.0   \n",
       "4              26     Ads  FireFox   M   33             Brazil   85995.0   \n",
       "\n",
       "   year  month  dayofweek     session  number_device  class  \n",
       "0  2015      9          3        Noon              2      0  \n",
       "1  2015      4          0  Late_Night              1      0  \n",
       "2  2015      4          6     Morning              1      0  \n",
       "3  2015      1          4     Morning              1      0  \n",
       "4  2015      4          3        Noon              1      0  "
      ]
     },
     "execution_count": 47,
     "metadata": {},
     "output_type": "execute_result"
    }
   ],
   "source": [
    "data.head() "
   ]
  },
  {
   "cell_type": "code",
   "execution_count": 48,
   "metadata": {},
   "outputs": [],
   "source": [
    "cat_vars=['source', 'browser', 'sex', 'country', 'month', 'dayofweek', 'session']\n",
    "for var in cat_vars:\n",
    "    cat_list='var'+'_'+var\n",
    "    cat_list = pd.get_dummies(data[var], prefix=var)\n",
    "    data1=data.join(cat_list)\n",
    "    data=data1"
   ]
  },
  {
   "cell_type": "code",
   "execution_count": 49,
   "metadata": {},
   "outputs": [
    {
     "data": {
      "text/html": [
       "<div>\n",
       "<style scoped>\n",
       "    .dataframe tbody tr th:only-of-type {\n",
       "        vertical-align: middle;\n",
       "    }\n",
       "\n",
       "    .dataframe tbody tr th {\n",
       "        vertical-align: top;\n",
       "    }\n",
       "\n",
       "    .dataframe thead th {\n",
       "        text-align: right;\n",
       "    }\n",
       "</style>\n",
       "<table border=\"1\" class=\"dataframe\">\n",
       "  <thead>\n",
       "    <tr style=\"text-align: right;\">\n",
       "      <th></th>\n",
       "      <th>purchase_value</th>\n",
       "      <th>source</th>\n",
       "      <th>browser</th>\n",
       "      <th>sex</th>\n",
       "      <th>age</th>\n",
       "      <th>country</th>\n",
       "      <th>tenure</th>\n",
       "      <th>year</th>\n",
       "      <th>month</th>\n",
       "      <th>dayofweek</th>\n",
       "      <th>...</th>\n",
       "      <th>dayofweek_3</th>\n",
       "      <th>dayofweek_4</th>\n",
       "      <th>dayofweek_5</th>\n",
       "      <th>dayofweek_6</th>\n",
       "      <th>session_Early_Morning</th>\n",
       "      <th>session_Eve</th>\n",
       "      <th>session_Late_Night</th>\n",
       "      <th>session_Morning</th>\n",
       "      <th>session_Night</th>\n",
       "      <th>session_Noon</th>\n",
       "    </tr>\n",
       "  </thead>\n",
       "  <tbody>\n",
       "    <tr>\n",
       "      <th>0</th>\n",
       "      <td>31</td>\n",
       "      <td>Direct</td>\n",
       "      <td>Chrome</td>\n",
       "      <td>M</td>\n",
       "      <td>49</td>\n",
       "      <td>United States</td>\n",
       "      <td>82661.0</td>\n",
       "      <td>2015</td>\n",
       "      <td>9</td>\n",
       "      <td>3</td>\n",
       "      <td>...</td>\n",
       "      <td>1</td>\n",
       "      <td>0</td>\n",
       "      <td>0</td>\n",
       "      <td>0</td>\n",
       "      <td>0</td>\n",
       "      <td>0</td>\n",
       "      <td>0</td>\n",
       "      <td>0</td>\n",
       "      <td>0</td>\n",
       "      <td>1</td>\n",
       "    </tr>\n",
       "    <tr>\n",
       "      <th>1</th>\n",
       "      <td>31</td>\n",
       "      <td>SEO</td>\n",
       "      <td>IE</td>\n",
       "      <td>F</td>\n",
       "      <td>21</td>\n",
       "      <td>United Kingdom</td>\n",
       "      <td>113304.0</td>\n",
       "      <td>2015</td>\n",
       "      <td>4</td>\n",
       "      <td>0</td>\n",
       "      <td>...</td>\n",
       "      <td>0</td>\n",
       "      <td>0</td>\n",
       "      <td>0</td>\n",
       "      <td>0</td>\n",
       "      <td>0</td>\n",
       "      <td>0</td>\n",
       "      <td>1</td>\n",
       "      <td>0</td>\n",
       "      <td>0</td>\n",
       "      <td>0</td>\n",
       "    </tr>\n",
       "    <tr>\n",
       "      <th>2</th>\n",
       "      <td>16</td>\n",
       "      <td>Direct</td>\n",
       "      <td>IE</td>\n",
       "      <td>M</td>\n",
       "      <td>26</td>\n",
       "      <td>United States</td>\n",
       "      <td>36689.0</td>\n",
       "      <td>2015</td>\n",
       "      <td>4</td>\n",
       "      <td>6</td>\n",
       "      <td>...</td>\n",
       "      <td>0</td>\n",
       "      <td>0</td>\n",
       "      <td>0</td>\n",
       "      <td>1</td>\n",
       "      <td>0</td>\n",
       "      <td>0</td>\n",
       "      <td>0</td>\n",
       "      <td>1</td>\n",
       "      <td>0</td>\n",
       "      <td>0</td>\n",
       "    </tr>\n",
       "    <tr>\n",
       "      <th>3</th>\n",
       "      <td>29</td>\n",
       "      <td>SEO</td>\n",
       "      <td>Chrome</td>\n",
       "      <td>M</td>\n",
       "      <td>34</td>\n",
       "      <td>Korea Republic of</td>\n",
       "      <td>2693.0</td>\n",
       "      <td>2015</td>\n",
       "      <td>1</td>\n",
       "      <td>4</td>\n",
       "      <td>...</td>\n",
       "      <td>0</td>\n",
       "      <td>1</td>\n",
       "      <td>0</td>\n",
       "      <td>0</td>\n",
       "      <td>0</td>\n",
       "      <td>0</td>\n",
       "      <td>0</td>\n",
       "      <td>1</td>\n",
       "      <td>0</td>\n",
       "      <td>0</td>\n",
       "    </tr>\n",
       "    <tr>\n",
       "      <th>4</th>\n",
       "      <td>26</td>\n",
       "      <td>Ads</td>\n",
       "      <td>FireFox</td>\n",
       "      <td>M</td>\n",
       "      <td>33</td>\n",
       "      <td>Brazil</td>\n",
       "      <td>85995.0</td>\n",
       "      <td>2015</td>\n",
       "      <td>4</td>\n",
       "      <td>3</td>\n",
       "      <td>...</td>\n",
       "      <td>1</td>\n",
       "      <td>0</td>\n",
       "      <td>0</td>\n",
       "      <td>0</td>\n",
       "      <td>0</td>\n",
       "      <td>0</td>\n",
       "      <td>0</td>\n",
       "      <td>0</td>\n",
       "      <td>0</td>\n",
       "      <td>1</td>\n",
       "    </tr>\n",
       "  </tbody>\n",
       "</table>\n",
       "<p>5 rows × 223 columns</p>\n",
       "</div>"
      ],
      "text/plain": [
       "   purchase_value  source  browser sex  age            country    tenure  \\\n",
       "0              31  Direct   Chrome   M   49      United States   82661.0   \n",
       "1              31     SEO       IE   F   21     United Kingdom  113304.0   \n",
       "2              16  Direct       IE   M   26      United States   36689.0   \n",
       "3              29     SEO   Chrome   M   34  Korea Republic of    2693.0   \n",
       "4              26     Ads  FireFox   M   33             Brazil   85995.0   \n",
       "\n",
       "   year  month  dayofweek  ... dayofweek_3  dayofweek_4  dayofweek_5  \\\n",
       "0  2015      9          3  ...           1            0            0   \n",
       "1  2015      4          0  ...           0            0            0   \n",
       "2  2015      4          6  ...           0            0            0   \n",
       "3  2015      1          4  ...           0            1            0   \n",
       "4  2015      4          3  ...           1            0            0   \n",
       "\n",
       "   dayofweek_6  session_Early_Morning  session_Eve  session_Late_Night  \\\n",
       "0            0                      0            0                   0   \n",
       "1            0                      0            0                   1   \n",
       "2            1                      0            0                   0   \n",
       "3            0                      0            0                   0   \n",
       "4            0                      0            0                   0   \n",
       "\n",
       "   session_Morning  session_Night  session_Noon  \n",
       "0                0              0             1  \n",
       "1                0              0             0  \n",
       "2                1              0             0  \n",
       "3                1              0             0  \n",
       "4                0              0             1  \n",
       "\n",
       "[5 rows x 223 columns]"
      ]
     },
     "execution_count": 49,
     "metadata": {},
     "output_type": "execute_result"
    }
   ],
   "source": [
    "data.head()"
   ]
  },
  {
   "cell_type": "markdown",
   "metadata": {},
   "source": [
    "##### Selected features "
   ]
  },
  {
   "cell_type": "code",
   "execution_count": 50,
   "metadata": {},
   "outputs": [],
   "source": [
    "data_vars=data.columns.values.tolist()\n",
    "to_keep=[i for i in data_vars if i not in cat_vars]"
   ]
  },
  {
   "cell_type": "code",
   "execution_count": 51,
   "metadata": {},
   "outputs": [
    {
     "data": {
      "text/plain": [
       "216"
      ]
     },
     "execution_count": 51,
     "metadata": {},
     "output_type": "execute_result"
    }
   ],
   "source": [
    "data_final=data[to_keep].copy()\n",
    "len(data_final.columns.values)"
   ]
  },
  {
   "cell_type": "code",
   "execution_count": 52,
   "metadata": {},
   "outputs": [
    {
     "data": {
      "text/html": [
       "<div>\n",
       "<style scoped>\n",
       "    .dataframe tbody tr th:only-of-type {\n",
       "        vertical-align: middle;\n",
       "    }\n",
       "\n",
       "    .dataframe tbody tr th {\n",
       "        vertical-align: top;\n",
       "    }\n",
       "\n",
       "    .dataframe thead th {\n",
       "        text-align: right;\n",
       "    }\n",
       "</style>\n",
       "<table border=\"1\" class=\"dataframe\">\n",
       "  <thead>\n",
       "    <tr style=\"text-align: right;\">\n",
       "      <th></th>\n",
       "      <th>purchase_value</th>\n",
       "      <th>age</th>\n",
       "      <th>tenure</th>\n",
       "      <th>year</th>\n",
       "      <th>number_device</th>\n",
       "      <th>class</th>\n",
       "      <th>source_Ads</th>\n",
       "      <th>source_Direct</th>\n",
       "      <th>source_SEO</th>\n",
       "      <th>browser_Chrome</th>\n",
       "      <th>...</th>\n",
       "      <th>dayofweek_3</th>\n",
       "      <th>dayofweek_4</th>\n",
       "      <th>dayofweek_5</th>\n",
       "      <th>dayofweek_6</th>\n",
       "      <th>session_Early_Morning</th>\n",
       "      <th>session_Eve</th>\n",
       "      <th>session_Late_Night</th>\n",
       "      <th>session_Morning</th>\n",
       "      <th>session_Night</th>\n",
       "      <th>session_Noon</th>\n",
       "    </tr>\n",
       "  </thead>\n",
       "  <tbody>\n",
       "    <tr>\n",
       "      <th>0</th>\n",
       "      <td>31</td>\n",
       "      <td>49</td>\n",
       "      <td>82661.0</td>\n",
       "      <td>2015</td>\n",
       "      <td>2</td>\n",
       "      <td>0</td>\n",
       "      <td>0</td>\n",
       "      <td>1</td>\n",
       "      <td>0</td>\n",
       "      <td>1</td>\n",
       "      <td>...</td>\n",
       "      <td>1</td>\n",
       "      <td>0</td>\n",
       "      <td>0</td>\n",
       "      <td>0</td>\n",
       "      <td>0</td>\n",
       "      <td>0</td>\n",
       "      <td>0</td>\n",
       "      <td>0</td>\n",
       "      <td>0</td>\n",
       "      <td>1</td>\n",
       "    </tr>\n",
       "    <tr>\n",
       "      <th>1</th>\n",
       "      <td>31</td>\n",
       "      <td>21</td>\n",
       "      <td>113304.0</td>\n",
       "      <td>2015</td>\n",
       "      <td>1</td>\n",
       "      <td>0</td>\n",
       "      <td>0</td>\n",
       "      <td>0</td>\n",
       "      <td>1</td>\n",
       "      <td>0</td>\n",
       "      <td>...</td>\n",
       "      <td>0</td>\n",
       "      <td>0</td>\n",
       "      <td>0</td>\n",
       "      <td>0</td>\n",
       "      <td>0</td>\n",
       "      <td>0</td>\n",
       "      <td>1</td>\n",
       "      <td>0</td>\n",
       "      <td>0</td>\n",
       "      <td>0</td>\n",
       "    </tr>\n",
       "    <tr>\n",
       "      <th>2</th>\n",
       "      <td>16</td>\n",
       "      <td>26</td>\n",
       "      <td>36689.0</td>\n",
       "      <td>2015</td>\n",
       "      <td>1</td>\n",
       "      <td>0</td>\n",
       "      <td>0</td>\n",
       "      <td>1</td>\n",
       "      <td>0</td>\n",
       "      <td>0</td>\n",
       "      <td>...</td>\n",
       "      <td>0</td>\n",
       "      <td>0</td>\n",
       "      <td>0</td>\n",
       "      <td>1</td>\n",
       "      <td>0</td>\n",
       "      <td>0</td>\n",
       "      <td>0</td>\n",
       "      <td>1</td>\n",
       "      <td>0</td>\n",
       "      <td>0</td>\n",
       "    </tr>\n",
       "    <tr>\n",
       "      <th>3</th>\n",
       "      <td>29</td>\n",
       "      <td>34</td>\n",
       "      <td>2693.0</td>\n",
       "      <td>2015</td>\n",
       "      <td>1</td>\n",
       "      <td>0</td>\n",
       "      <td>0</td>\n",
       "      <td>0</td>\n",
       "      <td>1</td>\n",
       "      <td>1</td>\n",
       "      <td>...</td>\n",
       "      <td>0</td>\n",
       "      <td>1</td>\n",
       "      <td>0</td>\n",
       "      <td>0</td>\n",
       "      <td>0</td>\n",
       "      <td>0</td>\n",
       "      <td>0</td>\n",
       "      <td>1</td>\n",
       "      <td>0</td>\n",
       "      <td>0</td>\n",
       "    </tr>\n",
       "    <tr>\n",
       "      <th>4</th>\n",
       "      <td>26</td>\n",
       "      <td>33</td>\n",
       "      <td>85995.0</td>\n",
       "      <td>2015</td>\n",
       "      <td>1</td>\n",
       "      <td>0</td>\n",
       "      <td>1</td>\n",
       "      <td>0</td>\n",
       "      <td>0</td>\n",
       "      <td>0</td>\n",
       "      <td>...</td>\n",
       "      <td>1</td>\n",
       "      <td>0</td>\n",
       "      <td>0</td>\n",
       "      <td>0</td>\n",
       "      <td>0</td>\n",
       "      <td>0</td>\n",
       "      <td>0</td>\n",
       "      <td>0</td>\n",
       "      <td>0</td>\n",
       "      <td>1</td>\n",
       "    </tr>\n",
       "  </tbody>\n",
       "</table>\n",
       "<p>5 rows × 216 columns</p>\n",
       "</div>"
      ],
      "text/plain": [
       "   purchase_value  age    tenure  year  number_device  class  source_Ads  \\\n",
       "0              31   49   82661.0  2015              2      0           0   \n",
       "1              31   21  113304.0  2015              1      0           0   \n",
       "2              16   26   36689.0  2015              1      0           0   \n",
       "3              29   34    2693.0  2015              1      0           0   \n",
       "4              26   33   85995.0  2015              1      0           1   \n",
       "\n",
       "   source_Direct  source_SEO  browser_Chrome  ...  dayofweek_3  dayofweek_4  \\\n",
       "0              1           0               1  ...            1            0   \n",
       "1              0           1               0  ...            0            0   \n",
       "2              1           0               0  ...            0            0   \n",
       "3              0           1               1  ...            0            1   \n",
       "4              0           0               0  ...            1            0   \n",
       "\n",
       "   dayofweek_5  dayofweek_6  session_Early_Morning  session_Eve  \\\n",
       "0            0            0                      0            0   \n",
       "1            0            0                      0            0   \n",
       "2            0            1                      0            0   \n",
       "3            0            0                      0            0   \n",
       "4            0            0                      0            0   \n",
       "\n",
       "   session_Late_Night  session_Morning  session_Night  session_Noon  \n",
       "0                   0                0              0             1  \n",
       "1                   1                0              0             0  \n",
       "2                   0                1              0             0  \n",
       "3                   0                1              0             0  \n",
       "4                   0                0              0             1  \n",
       "\n",
       "[5 rows x 216 columns]"
      ]
     },
     "execution_count": 52,
     "metadata": {},
     "output_type": "execute_result"
    }
   ],
   "source": [
    "data_final.head(5)"
   ]
  },
  {
   "cell_type": "code",
   "execution_count": 53,
   "metadata": {},
   "outputs": [],
   "source": [
    "X = data_final.loc[:, data_final.columns != 'class']\n",
    "y = data_final.loc[:, data_final.columns == 'class']"
   ]
  },
  {
   "cell_type": "code",
   "execution_count": 54,
   "metadata": {},
   "outputs": [
    {
     "data": {
      "text/plain": [
       "(119999, 215)"
      ]
     },
     "execution_count": 54,
     "metadata": {},
     "output_type": "execute_result"
    }
   ],
   "source": [
    "X.shape"
   ]
  },
  {
   "cell_type": "markdown",
   "metadata": {},
   "source": [
    "##### Deal with unbalance data: Over-sampling using SMOTE\n",
    "\n",
    "With our training data created, I’ll over-sample the not fraudulent using the SMOTE algorithm(Synthetic Minority Oversampling Technique). At a high level, SMOTE:\n",
    "- Works by creating synthetic samples from the minor class (no-subscription) instead of creating copies.\n",
    "- Randomly choosing one of the k-nearest-neighbors and using it to create a similar, but randomly tweaked, new observations."
   ]
  },
  {
   "cell_type": "code",
   "execution_count": 55,
   "metadata": {},
   "outputs": [],
   "source": [
    "os = SMOTE(random_state=42)\n",
    "X_train, X_test, y_train, y_test = train_test_split(X, y, test_size=0.3, random_state=0)\n",
    "columns = X_train.columns"
   ]
  },
  {
   "cell_type": "code",
   "execution_count": 56,
   "metadata": {},
   "outputs": [
    {
     "name": "stdout",
     "output_type": "stream",
     "text": [
      "length of oversampled data is  152332\n",
      "Number of not fraudulent in oversampled data 76166\n",
      "Number of fraudulent 76166\n",
      "Proportion of not fraudulent data in oversampled data is  0.5\n",
      "Proportion of fraudulent data in oversampled data is  0.5\n"
     ]
    }
   ],
   "source": [
    "os_data_X,os_data_y=os.fit_sample(X_train, y_train)\n",
    "os_data_X = pd.DataFrame(data=os_data_X, columns=columns )\n",
    "os_data_y = pd.DataFrame(data=os_data_y, columns=['class'])\n",
    "# we can Check the numbers of our data\n",
    "print(\"length of oversampled data is \",len(os_data_X))\n",
    "print(\"Number of not fraudulent in oversampled data\",len(os_data_y[os_data_y['class']==0]))\n",
    "print(\"Number of fraudulent\",len(os_data_y[os_data_y['class']==1]))\n",
    "print(\"Proportion of not fraudulent data in oversampled data is \",len(os_data_y[os_data_y['class']==0])/len(os_data_X))\n",
    "print(\"Proportion of fraudulent data in oversampled data is \",len(os_data_y[os_data_y['class']==1])/len(os_data_X))"
   ]
  },
  {
   "cell_type": "code",
   "execution_count": 57,
   "metadata": {},
   "outputs": [
    {
     "data": {
      "text/html": [
       "<div>\n",
       "<style scoped>\n",
       "    .dataframe tbody tr th:only-of-type {\n",
       "        vertical-align: middle;\n",
       "    }\n",
       "\n",
       "    .dataframe tbody tr th {\n",
       "        vertical-align: top;\n",
       "    }\n",
       "\n",
       "    .dataframe thead th {\n",
       "        text-align: right;\n",
       "    }\n",
       "</style>\n",
       "<table border=\"1\" class=\"dataframe\">\n",
       "  <thead>\n",
       "    <tr style=\"text-align: right;\">\n",
       "      <th></th>\n",
       "      <th>purchase_value</th>\n",
       "      <th>age</th>\n",
       "      <th>tenure</th>\n",
       "      <th>year</th>\n",
       "      <th>number_device</th>\n",
       "      <th>source_Ads</th>\n",
       "      <th>source_Direct</th>\n",
       "      <th>source_SEO</th>\n",
       "      <th>browser_Chrome</th>\n",
       "      <th>browser_FireFox</th>\n",
       "      <th>...</th>\n",
       "      <th>dayofweek_3</th>\n",
       "      <th>dayofweek_4</th>\n",
       "      <th>dayofweek_5</th>\n",
       "      <th>dayofweek_6</th>\n",
       "      <th>session_Early_Morning</th>\n",
       "      <th>session_Eve</th>\n",
       "      <th>session_Late_Night</th>\n",
       "      <th>session_Morning</th>\n",
       "      <th>session_Night</th>\n",
       "      <th>session_Noon</th>\n",
       "    </tr>\n",
       "  </thead>\n",
       "  <tbody>\n",
       "    <tr>\n",
       "      <th>0</th>\n",
       "      <td>25</td>\n",
       "      <td>44</td>\n",
       "      <td>113256.0</td>\n",
       "      <td>2015</td>\n",
       "      <td>1</td>\n",
       "      <td>0</td>\n",
       "      <td>0</td>\n",
       "      <td>1</td>\n",
       "      <td>0</td>\n",
       "      <td>0</td>\n",
       "      <td>...</td>\n",
       "      <td>0</td>\n",
       "      <td>1</td>\n",
       "      <td>0</td>\n",
       "      <td>0</td>\n",
       "      <td>0</td>\n",
       "      <td>1</td>\n",
       "      <td>0</td>\n",
       "      <td>0</td>\n",
       "      <td>0</td>\n",
       "      <td>0</td>\n",
       "    </tr>\n",
       "    <tr>\n",
       "      <th>1</th>\n",
       "      <td>43</td>\n",
       "      <td>29</td>\n",
       "      <td>78365.0</td>\n",
       "      <td>2015</td>\n",
       "      <td>1</td>\n",
       "      <td>1</td>\n",
       "      <td>0</td>\n",
       "      <td>0</td>\n",
       "      <td>1</td>\n",
       "      <td>0</td>\n",
       "      <td>...</td>\n",
       "      <td>0</td>\n",
       "      <td>1</td>\n",
       "      <td>0</td>\n",
       "      <td>0</td>\n",
       "      <td>0</td>\n",
       "      <td>0</td>\n",
       "      <td>0</td>\n",
       "      <td>0</td>\n",
       "      <td>0</td>\n",
       "      <td>1</td>\n",
       "    </tr>\n",
       "    <tr>\n",
       "      <th>2</th>\n",
       "      <td>66</td>\n",
       "      <td>27</td>\n",
       "      <td>106110.0</td>\n",
       "      <td>2015</td>\n",
       "      <td>1</td>\n",
       "      <td>1</td>\n",
       "      <td>0</td>\n",
       "      <td>0</td>\n",
       "      <td>1</td>\n",
       "      <td>0</td>\n",
       "      <td>...</td>\n",
       "      <td>0</td>\n",
       "      <td>0</td>\n",
       "      <td>0</td>\n",
       "      <td>0</td>\n",
       "      <td>0</td>\n",
       "      <td>0</td>\n",
       "      <td>0</td>\n",
       "      <td>0</td>\n",
       "      <td>1</td>\n",
       "      <td>0</td>\n",
       "    </tr>\n",
       "    <tr>\n",
       "      <th>3</th>\n",
       "      <td>24</td>\n",
       "      <td>53</td>\n",
       "      <td>13100.0</td>\n",
       "      <td>2015</td>\n",
       "      <td>1</td>\n",
       "      <td>0</td>\n",
       "      <td>0</td>\n",
       "      <td>1</td>\n",
       "      <td>1</td>\n",
       "      <td>0</td>\n",
       "      <td>...</td>\n",
       "      <td>0</td>\n",
       "      <td>0</td>\n",
       "      <td>0</td>\n",
       "      <td>0</td>\n",
       "      <td>0</td>\n",
       "      <td>0</td>\n",
       "      <td>1</td>\n",
       "      <td>0</td>\n",
       "      <td>0</td>\n",
       "      <td>0</td>\n",
       "    </tr>\n",
       "    <tr>\n",
       "      <th>4</th>\n",
       "      <td>53</td>\n",
       "      <td>28</td>\n",
       "      <td>52509.0</td>\n",
       "      <td>2015</td>\n",
       "      <td>1</td>\n",
       "      <td>0</td>\n",
       "      <td>0</td>\n",
       "      <td>1</td>\n",
       "      <td>1</td>\n",
       "      <td>0</td>\n",
       "      <td>...</td>\n",
       "      <td>0</td>\n",
       "      <td>0</td>\n",
       "      <td>0</td>\n",
       "      <td>1</td>\n",
       "      <td>0</td>\n",
       "      <td>1</td>\n",
       "      <td>0</td>\n",
       "      <td>0</td>\n",
       "      <td>0</td>\n",
       "      <td>0</td>\n",
       "    </tr>\n",
       "  </tbody>\n",
       "</table>\n",
       "<p>5 rows × 215 columns</p>\n",
       "</div>"
      ],
      "text/plain": [
       "   purchase_value  age    tenure  year  number_device  source_Ads  \\\n",
       "0              25   44  113256.0  2015              1           0   \n",
       "1              43   29   78365.0  2015              1           1   \n",
       "2              66   27  106110.0  2015              1           1   \n",
       "3              24   53   13100.0  2015              1           0   \n",
       "4              53   28   52509.0  2015              1           0   \n",
       "\n",
       "   source_Direct  source_SEO  browser_Chrome  browser_FireFox  ...  \\\n",
       "0              0           1               0                0  ...   \n",
       "1              0           0               1                0  ...   \n",
       "2              0           0               1                0  ...   \n",
       "3              0           1               1                0  ...   \n",
       "4              0           1               1                0  ...   \n",
       "\n",
       "   dayofweek_3  dayofweek_4  dayofweek_5  dayofweek_6  session_Early_Morning  \\\n",
       "0            0            1            0            0                      0   \n",
       "1            0            1            0            0                      0   \n",
       "2            0            0            0            0                      0   \n",
       "3            0            0            0            0                      0   \n",
       "4            0            0            0            1                      0   \n",
       "\n",
       "   session_Eve  session_Late_Night  session_Morning  session_Night  \\\n",
       "0            1                   0                0              0   \n",
       "1            0                   0                0              0   \n",
       "2            0                   0                0              1   \n",
       "3            0                   1                0              0   \n",
       "4            1                   0                0              0   \n",
       "\n",
       "   session_Noon  \n",
       "0             0  \n",
       "1             1  \n",
       "2             0  \n",
       "3             0  \n",
       "4             0  \n",
       "\n",
       "[5 rows x 215 columns]"
      ]
     },
     "execution_count": 57,
     "metadata": {},
     "output_type": "execute_result"
    }
   ],
   "source": [
    "os_data_X.head()"
   ]
  },
  {
   "cell_type": "code",
   "execution_count": 58,
   "metadata": {},
   "outputs": [
    {
     "data": {
      "text/html": [
       "<div>\n",
       "<style scoped>\n",
       "    .dataframe tbody tr th:only-of-type {\n",
       "        vertical-align: middle;\n",
       "    }\n",
       "\n",
       "    .dataframe tbody tr th {\n",
       "        vertical-align: top;\n",
       "    }\n",
       "\n",
       "    .dataframe thead th {\n",
       "        text-align: right;\n",
       "    }\n",
       "</style>\n",
       "<table border=\"1\" class=\"dataframe\">\n",
       "  <thead>\n",
       "    <tr style=\"text-align: right;\">\n",
       "      <th></th>\n",
       "      <th>class</th>\n",
       "    </tr>\n",
       "  </thead>\n",
       "  <tbody>\n",
       "    <tr>\n",
       "      <th>0</th>\n",
       "      <td>0</td>\n",
       "    </tr>\n",
       "    <tr>\n",
       "      <th>1</th>\n",
       "      <td>0</td>\n",
       "    </tr>\n",
       "    <tr>\n",
       "      <th>2</th>\n",
       "      <td>0</td>\n",
       "    </tr>\n",
       "    <tr>\n",
       "      <th>3</th>\n",
       "      <td>0</td>\n",
       "    </tr>\n",
       "    <tr>\n",
       "      <th>4</th>\n",
       "      <td>0</td>\n",
       "    </tr>\n",
       "  </tbody>\n",
       "</table>\n",
       "</div>"
      ],
      "text/plain": [
       "   class\n",
       "0      0\n",
       "1      0\n",
       "2      0\n",
       "3      0\n",
       "4      0"
      ]
     },
     "execution_count": 58,
     "metadata": {},
     "output_type": "execute_result"
    }
   ],
   "source": [
    "os_data_y.head()"
   ]
  },
  {
   "cell_type": "markdown",
   "metadata": {},
   "source": [
    "### modeling \n",
    "\n",
    "I will start with `LogisticRegression` which is the most widely used model in industry.   "
   ]
  },
  {
   "cell_type": "markdown",
   "metadata": {},
   "source": [
    "#### LogisticRegression"
   ]
  },
  {
   "cell_type": "markdown",
   "metadata": {},
   "source": [
    "##### Regularized  LogisticRegression\n",
    "\n",
    "If the dataset is small, we can use Recursive Feature Elimination (RFE) to do feature selection. But when dataset is lage, the RFE is not efficient. So I applied l1 Regularized `LogisticRegression` for feature selection.  "
   ]
  },
  {
   "cell_type": "code",
   "execution_count": 202,
   "metadata": {},
   "outputs": [
    {
     "data": {
      "text/html": [
       "<div>\n",
       "<style scoped>\n",
       "    .dataframe tbody tr th:only-of-type {\n",
       "        vertical-align: middle;\n",
       "    }\n",
       "\n",
       "    .dataframe tbody tr th {\n",
       "        vertical-align: top;\n",
       "    }\n",
       "\n",
       "    .dataframe thead th {\n",
       "        text-align: right;\n",
       "    }\n",
       "</style>\n",
       "<table border=\"1\" class=\"dataframe\">\n",
       "  <thead>\n",
       "    <tr style=\"text-align: right;\">\n",
       "      <th></th>\n",
       "      <th>feature</th>\n",
       "      <th>importance</th>\n",
       "    </tr>\n",
       "  </thead>\n",
       "  <tbody>\n",
       "    <tr>\n",
       "      <th>155</th>\n",
       "      <td>country_Senegal</td>\n",
       "      <td>20.324778</td>\n",
       "    </tr>\n",
       "    <tr>\n",
       "      <th>175</th>\n",
       "      <td>country_Turkmenistan</td>\n",
       "      <td>19.831917</td>\n",
       "    </tr>\n",
       "    <tr>\n",
       "      <th>15</th>\n",
       "      <td>country_Afghanistan</td>\n",
       "      <td>18.424369</td>\n",
       "    </tr>\n",
       "    <tr>\n",
       "      <th>4</th>\n",
       "      <td>number_device</td>\n",
       "      <td>0.741343</td>\n",
       "    </tr>\n",
       "    <tr>\n",
       "      <th>3</th>\n",
       "      <td>year</td>\n",
       "      <td>0.004535</td>\n",
       "    </tr>\n",
       "    <tr>\n",
       "      <th>0</th>\n",
       "      <td>purchase_value</td>\n",
       "      <td>0.001276</td>\n",
       "    </tr>\n",
       "    <tr>\n",
       "      <th>187</th>\n",
       "      <td>country_Yemen</td>\n",
       "      <td>0.000000</td>\n",
       "    </tr>\n",
       "    <tr>\n",
       "      <th>183</th>\n",
       "      <td>country_Vanuatu</td>\n",
       "      <td>0.000000</td>\n",
       "    </tr>\n",
       "    <tr>\n",
       "      <th>153</th>\n",
       "      <td>country_San Marino</td>\n",
       "      <td>0.000000</td>\n",
       "    </tr>\n",
       "    <tr>\n",
       "      <th>125</th>\n",
       "      <td>country_Myanmar</td>\n",
       "      <td>0.000000</td>\n",
       "    </tr>\n",
       "    <tr>\n",
       "      <th>42</th>\n",
       "      <td>country_Burkina Faso</td>\n",
       "      <td>0.000000</td>\n",
       "    </tr>\n",
       "    <tr>\n",
       "      <th>37</th>\n",
       "      <td>country_Botswana</td>\n",
       "      <td>0.000000</td>\n",
       "    </tr>\n",
       "    <tr>\n",
       "      <th>33</th>\n",
       "      <td>country_Bermuda</td>\n",
       "      <td>0.000000</td>\n",
       "    </tr>\n",
       "    <tr>\n",
       "      <th>25</th>\n",
       "      <td>country_Bahamas</td>\n",
       "      <td>0.000000</td>\n",
       "    </tr>\n",
       "    <tr>\n",
       "      <th>107</th>\n",
       "      <td>country_Liechtenstein</td>\n",
       "      <td>0.000000</td>\n",
       "    </tr>\n",
       "    <tr>\n",
       "      <th>2</th>\n",
       "      <td>tenure</td>\n",
       "      <td>-0.000003</td>\n",
       "    </tr>\n",
       "    <tr>\n",
       "      <th>1</th>\n",
       "      <td>age</td>\n",
       "      <td>-0.000668</td>\n",
       "    </tr>\n",
       "    <tr>\n",
       "      <th>186</th>\n",
       "      <td>country_Virgin Islands (U.S.)</td>\n",
       "      <td>-0.574324</td>\n",
       "    </tr>\n",
       "    <tr>\n",
       "      <th>14</th>\n",
       "      <td>sex_M</td>\n",
       "      <td>-0.991129</td>\n",
       "    </tr>\n",
       "    <tr>\n",
       "      <th>13</th>\n",
       "      <td>sex_F</td>\n",
       "      <td>-1.029542</td>\n",
       "    </tr>\n",
       "  </tbody>\n",
       "</table>\n",
       "</div>"
      ],
      "text/plain": [
       "                           feature  importance\n",
       "155                country_Senegal   20.324778\n",
       "175           country_Turkmenistan   19.831917\n",
       "15             country_Afghanistan   18.424369\n",
       "4                    number_device    0.741343\n",
       "3                             year    0.004535\n",
       "0                   purchase_value    0.001276\n",
       "187                  country_Yemen    0.000000\n",
       "183                country_Vanuatu    0.000000\n",
       "153             country_San Marino    0.000000\n",
       "125                country_Myanmar    0.000000\n",
       "42            country_Burkina Faso    0.000000\n",
       "37                country_Botswana    0.000000\n",
       "33                 country_Bermuda    0.000000\n",
       "25                 country_Bahamas    0.000000\n",
       "107          country_Liechtenstein    0.000000\n",
       "2                           tenure   -0.000003\n",
       "1                              age   -0.000668\n",
       "186  country_Virgin Islands (U.S.)   -0.574324\n",
       "14                           sex_M   -0.991129\n",
       "13                           sex_F   -1.029542"
      ]
     },
     "execution_count": 202,
     "metadata": {},
     "output_type": "execute_result"
    }
   ],
   "source": [
    "X = os_data_X\n",
    "y = os_data_y['class']\n",
    "# sklearn output\n",
    "lgr = LogisticRegression(penalty=\"l1\", C = 1e9, solver='liblinear')\n",
    "lgr.fit(X, y)\n",
    "d = {'feature':os_data_X.columns, 'importance':lgr.coef_.ravel()}\n",
    "pd.DataFrame.from_dict(d).sort_values('importance', ascending =False).head(20)"
   ]
  },
  {
   "cell_type": "markdown",
   "metadata": {},
   "source": [
    "##### Model performance metrics "
   ]
  },
  {
   "cell_type": "code",
   "execution_count": 203,
   "metadata": {},
   "outputs": [],
   "source": [
    "lr_pred = lgr.predict(X_test)"
   ]
  },
  {
   "cell_type": "code",
   "execution_count": 206,
   "metadata": {},
   "outputs": [],
   "source": [
    "def confusion_matrix_(y_true, y_pred, class_names):\n",
    "    y_true = ['fraudulent' if i==1 else 'not fraudulent' for i in y_true['class']]\n",
    "    y_pred = ['fraudulent' if i==1 else 'not fraudulent' for i in y_pred]\n",
    "    \n",
    "    cnf_matrix = confusion_matrix(y_true, y_pred, labels=class_names)\n",
    "    return cnf_matrix\n",
    "\n",
    "\n",
    "\n",
    "def plot_confusion_matrix(cm, classes,\n",
    "                          normalize=False,\n",
    "                          title='Confusion matrix',\n",
    "                          cmap=plt.cm.Blues):\n",
    "    \"\"\"\n",
    "    This function prints and plots the confusion matrix.\n",
    "    Normalization can be applied by setting `normalize=True`.\n",
    "    \"\"\"\n",
    "    if normalize:\n",
    "        cm = cm.astype('float') / cm.sum(axis=1)[:, np.newaxis]\n",
    "        print(\"Normalized confusion matrix\")\n",
    "    else:\n",
    "        print('Confusion matrix, without normalization')\n",
    "\n",
    "    print(cm)\n",
    "\n",
    "    plt.imshow(cm, interpolation='nearest', cmap=cmap)\n",
    "    plt.title(title)\n",
    "    plt.colorbar()\n",
    "    tick_marks = np.arange(len(classes))\n",
    "    plt.xticks(tick_marks, classes, rotation=45)\n",
    "    plt.yticks(tick_marks, classes)\n",
    "\n",
    "    fmt = '.2f' if normalize else 'd'\n",
    "    thresh = cm.max() / 2.\n",
    "    for i, j in itertools.product(range(cm.shape[0]), range(cm.shape[1])):\n",
    "        plt.text(j, i, format(cm[i, j], fmt),\n",
    "                 horizontalalignment=\"center\",\n",
    "                 color=\"white\" if cm[i, j] > thresh else \"black\")\n",
    "\n",
    "    plt.tight_layout()\n",
    "    plt.ylabel('True label')\n",
    "    plt.xlabel('Predicted label')\n",
    "    \n",
    "def classification_report_(y_true, y_pred, class_names):\n",
    "    \"\"\"\n",
    "    Generate enhanced classification reoprt. \n",
    "    \"\"\"\n",
    "    print(classification_report(y_test, y_pred))\n",
    "    \n",
    "\n",
    "    \n",
    "    cnf_matrix = confusion_matrix_(y_test, y_pred, class_names)\n",
    "    \n",
    "    f1 = f1_score(y_test, y_pred)\n",
    "    recall = recall_score(y_test, y_pred)\n",
    "    accuracy = (cnf_matrix[0][0]+cnf_matrix[1][1])/sum(sum(cnf_matrix))\n",
    "    \n",
    "    # Plot non-normalized confusion matrix\n",
    "    plt.figure()\n",
    "    plot_confusion_matrix(cnf_matrix, classes=class_names,\n",
    "                          title='Confusion matrix, without normalization')\n",
    "    plt.show()\n",
    "    # Plot normalized confusion matrix\n",
    "    plt.figure()\n",
    "    plot_confusion_matrix(cnf_matrix, classes=class_names, normalize=True,\n",
    "                          title='Normalized confusion matrix')\n",
    "\n",
    "    plt.show()\n",
    "    \n",
    "    print('Accuracy of the classifier on test set: {:.4f}'.format(accuracy))\n",
    "    print('Recall score of the classifier on test set: {:.4f}'.format(recall))\n",
    "    print('f1-score of the classifier on test set: {:.4f}'.format(f1))"
   ]
  },
  {
   "cell_type": "code",
   "execution_count": 207,
   "metadata": {},
   "outputs": [
    {
     "name": "stdout",
     "output_type": "stream",
     "text": [
      "              precision    recall  f1-score   support\n",
      "\n",
      "           0       0.95      0.99      0.97     32568\n",
      "           1       0.91      0.54      0.68      3432\n",
      "\n",
      "    accuracy                           0.95     36000\n",
      "   macro avg       0.93      0.77      0.83     36000\n",
      "weighted avg       0.95      0.95      0.95     36000\n",
      "\n",
      "Confusion matrix, without normalization\n",
      "[[ 1852  1580]\n",
      " [  186 32382]]\n"
     ]
    },
    {
     "data": {
      "image/png": "[encoded data removed]",
      "text/plain": [
       "<Figure size 432x288 with 2 Axes>"
      ]
     },
     "metadata": {},
     "output_type": "display_data"
    },
    {
     "name": "stdout",
     "output_type": "stream",
     "text": [
      "Normalized confusion matrix\n",
      "[[0.53962704 0.46037296]\n",
      " [0.00571113 0.99428887]]\n"
     ]
    },
    {
     "data": {
      "image/png": "[encoded data removed]",
      "text/plain": [
       "<Figure size 432x288 with 2 Axes>"
      ]
     },
     "metadata": {},
     "output_type": "display_data"
    },
    {
     "name": "stdout",
     "output_type": "stream",
     "text": [
      "Accuracy of the classifier on test set: 0.9509\n",
      "Recall score of the classifier on test set: 0.5396\n",
      "f1-score of the classifier on test set: 0.6771\n"
     ]
    }
   ],
   "source": [
    "class_names = [\"fraudulent\", \"not fraudulent\"]\n",
    "\n",
    "classification_report_(y_test, lr_pred, class_names)"
   ]
  },
  {
   "cell_type": "markdown",
   "metadata": {},
   "source": [
    "##### cross validation \n",
    "\n",
    "10-folder cross validation was applied to check whether the model has over-fitting issues. The test scores indicate this model do not have over-fitting issues."
   ]
  },
  {
   "cell_type": "code",
   "execution_count": 95,
   "metadata": {},
   "outputs": [
    {
     "data": {
      "text/plain": [
       "array([0.76624655, 0.9906131 , 0.99717718, 0.99730848, 0.99717718,\n",
       "       0.99717718, 0.99711153, 0.99711153, 0.99691459, 0.99783365])"
      ]
     },
     "execution_count": 95,
     "metadata": {},
     "output_type": "execute_result"
    }
   ],
   "source": [
    "cross_val_score(lgr, X, y, cv=10)"
   ]
  },
  {
   "cell_type": "markdown",
   "metadata": {},
   "source": [
    "##### Finance cost \n",
    "\n",
    "Since if the model fail to identify a fraudulent transaction, Electronica loses money equivalent to the price of the fraudulently purchased product. If the model incorrectly flag a real transaction as fraudulent, it inconveniences the Electronica customers whose valid transactions are flagged—a cost your client values at $8. So we can also compute the finance cost"
   ]
  },
  {
   "cell_type": "code",
   "execution_count": 96,
   "metadata": {},
   "outputs": [],
   "source": [
    "def finance_sot(actual,prediction,data):\n",
    "    \n",
    "  d = {'purchase_value': data.purchase_value, 'prediction': prediction.ravel(), 'actual':actual['class']}\n",
    "  cost = pd.DataFrame(d) \n",
    "    \n",
    "  # finance cost for False Positive\n",
    "  cost_FP = cost[(cost.prediction==1) & (cost.actual==0)].shape[0] * 8  \n",
    "    \n",
    "  # finance cost for False Negative \n",
    "  cost_FN = cost[(cost.prediction==0) & (cost.actual==1)]['purchase_value'].sum()\n",
    "    \n",
    "  totalCost = cost_FP + cost_FN\n",
    "  print(\"Total Finace Cost $ {:.0f}:\".format(totalCost))\n",
    "  print(\"Cost for model prediction is true, but it is actually false is $ {:.0f}\".format(cost_FP))\n",
    "  print(\"Cost for model prediction is false, but it is actually true is $ {:.0f}\".format(cost_FN))"
   ]
  },
  {
   "cell_type": "code",
   "execution_count": 97,
   "metadata": {},
   "outputs": [
    {
     "name": "stdout",
     "output_type": "stream",
     "text": [
      "Total Finace Cost $ 60488:\n",
      "Cost for model prediction is true, but it is actually false is $ 1440\n",
      "Cost for model prediction is false, but it is actually true is $ 59048\n"
     ]
    }
   ],
   "source": [
    "finance_sot(y_test, lr_pred, X_test)"
   ]
  },
  {
   "cell_type": "markdown",
   "metadata": {},
   "source": [
    "#### RandomForestClassifier"
   ]
  },
  {
   "cell_type": "markdown",
   "metadata": {},
   "source": [
    "##### Basic RandomForst "
   ]
  },
  {
   "cell_type": "code",
   "execution_count": 153,
   "metadata": {},
   "outputs": [],
   "source": [
    "rf = RandomForestClassifier(n_estimators = 100, n_jobs =-1)\n",
    "rf.fit(X, y)\n",
    "rf_pred = rf.predict(X_test)"
   ]
  },
  {
   "cell_type": "markdown",
   "metadata": {},
   "source": [
    "###### Save and load best model"
   ]
  },
  {
   "cell_type": "code",
   "execution_count": 155,
   "metadata": {},
   "outputs": [
    {
     "data": {
      "text/plain": [
       "['model/rf.joblib']"
      ]
     },
     "execution_count": 155,
     "metadata": {},
     "output_type": "execute_result"
    }
   ],
   "source": [
    "dump(rf, filename=\"model/rf.joblib\")"
   ]
  },
  {
   "cell_type": "code",
   "execution_count": null,
   "metadata": {},
   "outputs": [],
   "source": [
    "# rf_best = load('model/rf.joblib') "
   ]
  },
  {
   "cell_type": "markdown",
   "metadata": {},
   "source": [
    "###### Model performance metrics"
   ]
  },
  {
   "cell_type": "code",
   "execution_count": 208,
   "metadata": {},
   "outputs": [
    {
     "name": "stdout",
     "output_type": "stream",
     "text": [
      "              precision    recall  f1-score   support\n",
      "\n",
      "           0       0.95      1.00      0.98     32568\n",
      "           1       1.00      0.54      0.70      3432\n",
      "\n",
      "    accuracy                           0.96     36000\n",
      "   macro avg       0.97      0.77      0.84     36000\n",
      "weighted avg       0.96      0.96      0.95     36000\n",
      "\n",
      "Confusion matrix, without normalization\n",
      "[[ 1843  1589]\n",
      " [    7 32561]]\n"
     ]
    },
    {
     "data": {
      "image/png": "[encoded data removed]",
      "text/plain": [
       "<Figure size 432x288 with 2 Axes>"
      ]
     },
     "metadata": {},
     "output_type": "display_data"
    },
    {
     "name": "stdout",
     "output_type": "stream",
     "text": [
      "Normalized confusion matrix\n",
      "[[5.37004662e-01 4.62995338e-01]\n",
      " [2.14934905e-04 9.99785065e-01]]\n"
     ]
    },
    {
     "data": {
      "image/png": "[encoded data removed]",
      "text/plain": [
       "<Figure size 432x288 with 2 Axes>"
      ]
     },
     "metadata": {},
     "output_type": "display_data"
    },
    {
     "name": "stdout",
     "output_type": "stream",
     "text": [
      "Accuracy of the classifier on test set: 0.9557\n",
      "Recall score of the classifier on test set: 0.5370\n",
      "f1-score of the classifier on test set: 0.6978\n"
     ]
    }
   ],
   "source": [
    "classification_report_(y_test, rf_pred, class_names)"
   ]
  },
  {
   "cell_type": "markdown",
   "metadata": {},
   "source": [
    "###### Finance cost "
   ]
  },
  {
   "cell_type": "code",
   "execution_count": 157,
   "metadata": {},
   "outputs": [
    {
     "name": "stdout",
     "output_type": "stream",
     "text": [
      "Total Finace Cost $ 59452:\n",
      "Cost for model prediction is true, but it is actually false is $ 56\n",
      "Cost for model prediction is false, but it is actually true is $ 59396\n"
     ]
    }
   ],
   "source": [
    "finance_sot(y_test, rf_pred, X_test)"
   ]
  },
  {
   "cell_type": "markdown",
   "metadata": {},
   "source": [
    "##### Tuned RandomForst "
   ]
  },
  {
   "cell_type": "markdown",
   "metadata": {},
   "source": [
    "###### Random Hyperparameters Grid Search "
   ]
  },
  {
   "cell_type": "code",
   "execution_count": 129,
   "metadata": {},
   "outputs": [],
   "source": [
    "from sklearn.model_selection import RandomizedSearchCV\n",
    "# Number of trees in random forest\n",
    "n_estimators = [int(x) for x in np.linspace(start = 100, stop = 2000, num = 10)]\n",
    "# Number of features to consider at every split\n",
    "max_features = ['auto', 'sqrt']\n",
    "# Maximum number of levels in tree\n",
    "max_depth = [int(x) for x in np.linspace(10, 110, num = 11)]\n",
    "max_depth.append(None)\n",
    "# # Minimum number of samples required to split a node\n",
    "# min_samples_split = [2, 5, 10]\n",
    "# # Minimum number of samples required at each leaf node\n",
    "# min_samples_leaf = [1, 2, 4]\n",
    "# Method of selecting samples for training each tree\n",
    "bootstrap = [True, False]\n",
    "# Create the random grid\n",
    "random_grid = {'n_estimators': n_estimators,\n",
    "               'max_features': max_features,\n",
    "               'max_depth': max_depth,\n",
    "               'bootstrap': bootstrap}"
   ]
  },
  {
   "cell_type": "code",
   "execution_count": 130,
   "metadata": {},
   "outputs": [
    {
     "name": "stdout",
     "output_type": "stream",
     "text": [
      "Fitting 3 folds for each of 5 candidates, totalling 15 fits\n"
     ]
    },
    {
     "data": {
      "text/plain": [
       "RandomizedSearchCV(cv=3, estimator=RandomForestClassifier(), n_iter=5,\n",
       "                   n_jobs=-1,\n",
       "                   param_distributions={'bootstrap': [True, False],\n",
       "                                        'max_depth': [10, 20, 30, 40, 50, 60,\n",
       "                                                      70, 80, 90, 100, 110,\n",
       "                                                      None],\n",
       "                                        'max_features': ['auto', 'sqrt'],\n",
       "                                        'n_estimators': [100, 311, 522, 733,\n",
       "                                                         944, 1155, 1366, 1577,\n",
       "                                                         1788, 2000]},\n",
       "                   random_state=42, verbose=2)"
      ]
     },
     "execution_count": 130,
     "metadata": {},
     "output_type": "execute_result"
    }
   ],
   "source": [
    "# Use the random grid to search for best hyperparameters\n",
    "# First create the base model to tune\n",
    "rf = RandomForestClassifier()\n",
    "# Random search of parameters, using 3 fold cross validation, \n",
    "# due to my laptop computing source limition, I only search across 10 different combinations, \n",
    "# and use all available cores\n",
    "rf_random = RandomizedSearchCV(estimator = rf, param_distributions = random_grid, n_iter = 5, cv = 3, verbose=2, random_state=42, n_jobs = -1)\n",
    "# Fit the random search model\n",
    "rf_random.fit(X, y)"
   ]
  },
  {
   "cell_type": "markdown",
   "metadata": {},
   "source": [
    "###### Save best model  and load  best model "
   ]
  },
  {
   "cell_type": "code",
   "execution_count": 158,
   "metadata": {},
   "outputs": [
    {
     "data": {
      "text/plain": [
       "{'n_estimators': 733,\n",
       " 'max_features': 'sqrt',\n",
       " 'max_depth': 40,\n",
       " 'bootstrap': True}"
      ]
     },
     "execution_count": 158,
     "metadata": {},
     "output_type": "execute_result"
    }
   ],
   "source": [
    "rf_random.best_params_"
   ]
  },
  {
   "cell_type": "code",
   "execution_count": 228,
   "metadata": {},
   "outputs": [
    {
     "data": {
      "text/plain": [
       "['model/rf_tuned.joblib']"
      ]
     },
     "execution_count": 228,
     "metadata": {},
     "output_type": "execute_result"
    }
   ],
   "source": [
    "dump(rf_random, filename=\"model/rf_tuned.joblib\")"
   ]
  },
  {
   "cell_type": "code",
   "execution_count": 229,
   "metadata": {},
   "outputs": [],
   "source": [
    "rf_best = load('model/rf_tuned.joblib') "
   ]
  },
  {
   "cell_type": "code",
   "execution_count": 161,
   "metadata": {},
   "outputs": [],
   "source": [
    "rf_best_pred =  rf_best.best_estimator_.predict(X_test)"
   ]
  },
  {
   "cell_type": "markdown",
   "metadata": {},
   "source": [
    "###### Model performance metrics"
   ]
  },
  {
   "cell_type": "code",
   "execution_count": 209,
   "metadata": {},
   "outputs": [
    {
     "name": "stdout",
     "output_type": "stream",
     "text": [
      "              precision    recall  f1-score   support\n",
      "\n",
      "           0       0.95      1.00      0.98     32568\n",
      "           1       1.00      0.54      0.70      3432\n",
      "\n",
      "    accuracy                           0.96     36000\n",
      "   macro avg       0.98      0.77      0.84     36000\n",
      "weighted avg       0.96      0.96      0.95     36000\n",
      "\n",
      "Confusion matrix, without normalization\n",
      "[[ 1844  1588]\n",
      " [    3 32565]]\n"
     ]
    },
    {
     "data": {
      "image/png": "[encoded data removed]",
      "text/plain": [
       "<Figure size 432x288 with 2 Axes>"
      ]
     },
     "metadata": {},
     "output_type": "display_data"
    },
    {
     "name": "stdout",
     "output_type": "stream",
     "text": [
      "Normalized confusion matrix\n",
      "[[5.37296037e-01 4.62703963e-01]\n",
      " [9.21149595e-05 9.99907885e-01]]\n"
     ]
    },
    {
     "data": {
      "image/png": "[encoded data removed]",
      "text/plain": [
       "<Figure size 432x288 with 2 Axes>"
      ]
     },
     "metadata": {},
     "output_type": "display_data"
    },
    {
     "name": "stdout",
     "output_type": "stream",
     "text": [
      "Accuracy of the classifier on test set: 0.9558\n",
      "Recall score of the classifier on test set: 0.5373\n",
      "f1-score of the classifier on test set: 0.6986\n"
     ]
    }
   ],
   "source": [
    "classification_report_(y_test, rf_best_pred, class_names)"
   ]
  },
  {
   "cell_type": "markdown",
   "metadata": {},
   "source": [
    "###### Finance cost "
   ]
  },
  {
   "cell_type": "code",
   "execution_count": 210,
   "metadata": {},
   "outputs": [
    {
     "name": "stdout",
     "output_type": "stream",
     "text": [
      "Total Finace Cost $ 59383:\n",
      "Cost for model prediction is true, but it is actually false is $ 24\n",
      "Cost for model prediction is false, but it is actually true is $ 59359\n"
     ]
    }
   ],
   "source": [
    "finance_sot(y_test, rf_best_pred, X_test)"
   ]
  },
  {
   "cell_type": "markdown",
   "metadata": {},
   "source": [
    "#### XGBClassifier"
   ]
  },
  {
   "cell_type": "markdown",
   "metadata": {},
   "source": [
    "##### Basic XGBClassifier"
   ]
  },
  {
   "cell_type": "code",
   "execution_count": 213,
   "metadata": {},
   "outputs": [
    {
     "name": "stdout",
     "output_type": "stream",
     "text": [
      "[10:20:44] WARNING: /Users/travis/build/dmlc/xgboost/src/learner.cc:1095: Starting in XGBoost 1.3.0, the default evaluation metric used with the objective 'binary:logistic' was changed from 'error' to 'logloss'. Explicitly set eval_metric if you'd like to restore the old behavior.\n"
     ]
    },
    {
     "data": {
      "text/plain": [
       "XGBClassifier(base_score=0.5, booster='gbtree', colsample_bylevel=1,\n",
       "              colsample_bynode=1, colsample_bytree=1, gamma=0, gpu_id=-1,\n",
       "              importance_type='gain', interaction_constraints='',\n",
       "              learning_rate=0.300000012, max_delta_step=0, max_depth=6,\n",
       "              min_child_weight=1, missing=nan, monotone_constraints='()',\n",
       "              n_estimators=100, n_jobs=4, num_parallel_tree=1, random_state=0,\n",
       "              reg_alpha=0, reg_lambda=1, scale_pos_weight=1, subsample=1,\n",
       "              tree_method='exact', validate_parameters=1, verbosity=None)"
      ]
     },
     "execution_count": 213,
     "metadata": {},
     "output_type": "execute_result"
    }
   ],
   "source": [
    "xgb = XGBClassifier()\n",
    "xgb.fit(X, y)"
   ]
  },
  {
   "cell_type": "code",
   "execution_count": 227,
   "metadata": {},
   "outputs": [
    {
     "data": {
      "text/plain": [
       "['model/xgb.joblib']"
      ]
     },
     "execution_count": 227,
     "metadata": {},
     "output_type": "execute_result"
    }
   ],
   "source": [
    "dump(xgb, filename=\"model/xgb.joblib\")"
   ]
  },
  {
   "cell_type": "markdown",
   "metadata": {},
   "source": [
    "###### Model performance metrics"
   ]
  },
  {
   "cell_type": "code",
   "execution_count": 214,
   "metadata": {},
   "outputs": [],
   "source": [
    "xgb_pred = xgb.predict(X_test)"
   ]
  },
  {
   "cell_type": "code",
   "execution_count": 215,
   "metadata": {},
   "outputs": [
    {
     "name": "stdout",
     "output_type": "stream",
     "text": [
      "              precision    recall  f1-score   support\n",
      "\n",
      "           0       0.95      1.00      0.98     32568\n",
      "           1       0.98      0.54      0.70      3432\n",
      "\n",
      "    accuracy                           0.96     36000\n",
      "   macro avg       0.97      0.77      0.84     36000\n",
      "weighted avg       0.96      0.96      0.95     36000\n",
      "\n",
      "Confusion matrix, without normalization\n",
      "[[ 1864  1568]\n",
      " [   32 32536]]\n"
     ]
    },
    {
     "data": {
      "image/png": "[encoded data removed]",
      "text/plain": [
       "<Figure size 432x288 with 2 Axes>"
      ]
     },
     "metadata": {},
     "output_type": "display_data"
    },
    {
     "name": "stdout",
     "output_type": "stream",
     "text": [
      "Normalized confusion matrix\n",
      "[[5.43123543e-01 4.56876457e-01]\n",
      " [9.82559568e-04 9.99017440e-01]]\n"
     ]
    },
    {
     "data": {
      "image/png": "[encoded data removed]",
      "text/plain": [
       "<Figure size 432x288 with 2 Axes>"
      ]
     },
     "metadata": {},
     "output_type": "display_data"
    },
    {
     "name": "stdout",
     "output_type": "stream",
     "text": [
      "Accuracy of the classifier on test set: 0.9556\n",
      "Recall score of the classifier on test set: 0.5431\n",
      "f1-score of the classifier on test set: 0.6997\n"
     ]
    }
   ],
   "source": [
    "classification_report_(y_test, xgb_pred,class_names)"
   ]
  },
  {
   "cell_type": "markdown",
   "metadata": {},
   "source": [
    "###### Finance cost "
   ]
  },
  {
   "cell_type": "code",
   "execution_count": 216,
   "metadata": {},
   "outputs": [
    {
     "name": "stdout",
     "output_type": "stream",
     "text": [
      "Total Finace Cost $ 58843:\n",
      "Cost for model prediction is true, but it is actually false is $ 256\n",
      "Cost for model prediction is false, but it is actually true is $ 58587\n"
     ]
    }
   ],
   "source": [
    "finance_sot(y_test, xgb_pred, X_test)"
   ]
  },
  {
   "cell_type": "markdown",
   "metadata": {},
   "source": [
    "##### Tuned XGBClassifier"
   ]
  },
  {
   "cell_type": "code",
   "execution_count": 217,
   "metadata": {},
   "outputs": [],
   "source": [
    "parameters = {'nthread':[4], #when use hyperthread, xgboost may become slower\n",
    "              'objective':['binary:logistic'],\n",
    "              'learning_rate': [0.05], #so called `eta` value\n",
    "              'max_depth': [10, 15],\n",
    "              'min_child_weight': [11],\n",
    "              'silent': [1],\n",
    "              'subsample': [0.8],\n",
    "              'colsample_bytree': [0.7],\n",
    "              'n_estimators': [100, 200], #number of trees, change it to 1000 for better results\n",
    "              'seed': [1337]}"
   ]
  },
  {
   "cell_type": "code",
   "execution_count": 218,
   "metadata": {},
   "outputs": [],
   "source": [
    "clf = GridSearchCV(xgb, parameters, n_jobs=-1,  \n",
    "                   scoring='roc_auc',\n",
    "                   verbose=2, refit=True)"
   ]
  },
  {
   "cell_type": "code",
   "execution_count": 219,
   "metadata": {},
   "outputs": [
    {
     "name": "stdout",
     "output_type": "stream",
     "text": [
      "Fitting 5 folds for each of 4 candidates, totalling 20 fits\n",
      "[11:15:57] WARNING: /Users/travis/build/dmlc/xgboost/src/learner.cc:573: \n",
      "Parameters: { \"silent\" } might not be used.\n",
      "\n",
      "  This may not be accurate due to some parameters are only used in language bindings but\n",
      "  passed down to XGBoost core.  Or some parameters are not used but slip through this\n",
      "  verification. Please open an issue if you find above cases.\n",
      "\n",
      "\n",
      "[11:15:58] WARNING: /Users/travis/build/dmlc/xgboost/src/learner.cc:1095: Starting in XGBoost 1.3.0, the default evaluation metric used with the objective 'binary:logistic' was changed from 'error' to 'logloss'. Explicitly set eval_metric if you'd like to restore the old behavior.\n"
     ]
    },
    {
     "data": {
      "text/plain": [
       "GridSearchCV(estimator=XGBClassifier(base_score=0.5, booster='gbtree',\n",
       "                                     colsample_bylevel=1, colsample_bynode=1,\n",
       "                                     colsample_bytree=1, gamma=0, gpu_id=-1,\n",
       "                                     importance_type='gain',\n",
       "                                     interaction_constraints='',\n",
       "                                     learning_rate=0.300000012,\n",
       "                                     max_delta_step=0, max_depth=6,\n",
       "                                     min_child_weight=1, missing=nan,\n",
       "                                     monotone_constraints='()',\n",
       "                                     n_estimators=100, n_jobs=4,\n",
       "                                     num_parallel_tree...\n",
       "                                     reg_alpha=0, reg_lambda=1,\n",
       "                                     scale_pos_weight=1, subsample=1,\n",
       "                                     tree_method='exact', validate_parameters=1,\n",
       "                                     verbosity=None),\n",
       "             n_jobs=-1,\n",
       "             param_grid={'colsample_bytree': [0.7], 'learning_rate': [0.05],\n",
       "                         'max_depth': [10, 15], 'min_child_weight': [11],\n",
       "                         'n_estimators': [100, 200], 'nthread': [4],\n",
       "                         'objective': ['binary:logistic'], 'seed': [1337],\n",
       "                         'silent': [1], 'subsample': [0.8]},\n",
       "             scoring='roc_auc', verbose=2)"
      ]
     },
     "execution_count": 219,
     "metadata": {},
     "output_type": "execute_result"
    }
   ],
   "source": [
    "clf.fit(X, y)"
   ]
  },
  {
   "cell_type": "code",
   "execution_count": 226,
   "metadata": {},
   "outputs": [
    {
     "data": {
      "text/plain": [
       "['model/xbg_tuned.joblib']"
      ]
     },
     "execution_count": 226,
     "metadata": {},
     "output_type": "execute_result"
    }
   ],
   "source": [
    "dump(clf, filename=\"model/xbg_tuned.joblib\")"
   ]
  },
  {
   "cell_type": "markdown",
   "metadata": {},
   "source": [
    "###### Model performance metrics"
   ]
  },
  {
   "cell_type": "code",
   "execution_count": 221,
   "metadata": {},
   "outputs": [],
   "source": [
    "xgb_best_pred =  clf.best_estimator_.predict(X_test)"
   ]
  },
  {
   "cell_type": "code",
   "execution_count": 222,
   "metadata": {},
   "outputs": [
    {
     "name": "stdout",
     "output_type": "stream",
     "text": [
      "              precision    recall  f1-score   support\n",
      "\n",
      "           0       0.95      1.00      0.98     32568\n",
      "           1       0.99      0.54      0.70      3432\n",
      "\n",
      "    accuracy                           0.96     36000\n",
      "   macro avg       0.97      0.77      0.84     36000\n",
      "weighted avg       0.96      0.96      0.95     36000\n",
      "\n",
      "Confusion matrix, without normalization\n",
      "[[ 1854  1578]\n",
      " [   23 32545]]\n"
     ]
    },
    {
     "data": {
      "image/png": "[encoded data removed]",
      "text/plain": [
       "<Figure size 432x288 with 2 Axes>"
      ]
     },
     "metadata": {},
     "output_type": "display_data"
    },
    {
     "name": "stdout",
     "output_type": "stream",
     "text": [
      "Normalized confusion matrix\n",
      "[[5.40209790e-01 4.59790210e-01]\n",
      " [7.06214689e-04 9.99293785e-01]]\n"
     ]
    },
    {
     "data": {
      "image/png": "[encoded data removed]",
      "text/plain": [
       "<Figure size 432x288 with 2 Axes>"
      ]
     },
     "metadata": {},
     "output_type": "display_data"
    },
    {
     "name": "stdout",
     "output_type": "stream",
     "text": [
      "Accuracy of the classifier on test set: 0.9555\n",
      "Recall score of the classifier on test set: 0.5402\n",
      "f1-score of the classifier on test set: 0.6984\n"
     ]
    }
   ],
   "source": [
    "classification_report_(y_test, xgb_best_pred,class_names)"
   ]
  },
  {
   "cell_type": "markdown",
   "metadata": {},
   "source": [
    "###### Finance cost "
   ]
  },
  {
   "cell_type": "code",
   "execution_count": 225,
   "metadata": {},
   "outputs": [
    {
     "name": "stdout",
     "output_type": "stream",
     "text": [
      "Total Finace Cost $ 59131:\n",
      "Cost for model prediction is true, but it is actually false is $ 184\n",
      "Cost for model prediction is false, but it is actually true is $ 58947\n"
     ]
    }
   ],
   "source": [
    "finance_sot(y_test, xgb_best_pred, X_test)"
   ]
  },
  {
   "cell_type": "code",
   "execution_count": null,
   "metadata": {},
   "outputs": [],
   "source": []
  }
 ],
 "metadata": {
  "kernelspec": {
   "display_name": "Python 3",
   "language": "python",
   "name": "python3"
  },
  "language_info": {
   "codemirror_mode": {
    "name": "ipython",
    "version": 3
   },
   "file_extension": ".py",
   "mimetype": "text/x-python",
   "name": "python",
   "nbconvert_exporter": "python",
   "pygments_lexer": "ipython3",
   "version": "3.8.5"
  },
  "nbTranslate": {
   "displayLangs": [
    "*"
   ],
   "hotkey": "alt-t",
   "langInMainMenu": true,
   "sourceLang": "en",
   "targetLang": "fr",
   "useGoogleTranslate": true
  },
  "toc": {
   "base_numbering": 1,
   "nav_menu": {},
   "number_sections": true,
   "sideBar": true,
   "skip_h1_title": false,
   "title_cell": "Table of Contents",
   "title_sidebar": "Contents",
   "toc_cell": true,
   "toc_position": {
    "height": "calc(100% - 180px)",
    "left": "10px",
    "top": "150px",
    "width": "165px"
   },
   "toc_section_display": true,
   "toc_window_display": true
  },
  "varInspector": {
   "cols": {
    "lenName": 16,
    "lenType": 16,
    "lenVar": 40
   },
   "kernels_config": {
    "python": {
     "delete_cmd_postfix": "",
     "delete_cmd_prefix": "del ",
     "library": "var_list.py",
     "varRefreshCmd": "print(var_dic_list())"
    },
    "r": {
     "delete_cmd_postfix": ") ",
     "delete_cmd_prefix": "rm(",
     "library": "var_list.r",
     "varRefreshCmd": "cat(var_dic_list()) "
    }
   },
   "types_to_exclude": [
    "module",
    "function",
    "builtin_function_or_method",
    "instance",
    "_Feature"
   ],
   "window_display": false
  }
 },
 "nbformat": 4,
 "nbformat_minor": 4
}
